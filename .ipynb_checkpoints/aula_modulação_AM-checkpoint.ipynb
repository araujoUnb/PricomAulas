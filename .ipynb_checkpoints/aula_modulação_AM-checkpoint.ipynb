{
 "cells": [
  {
   "cell_type": "code",
   "execution_count": 1,
   "metadata": {},
   "outputs": [],
   "source": [
    "import numpy as np\n",
    "import matplotlib.pyplot as plt\n",
    "from matplotlib.widgets import Slider, Button"
   ]
  },
  {
   "cell_type": "markdown",
   "metadata": {},
   "source": [
    "<img src=\"Figs/fga.png\" alt=\"isolated\"/>"
   ]
  },
  {
   "cell_type": "markdown",
   "metadata": {},
   "source": [
    "\n",
    "\n",
    "<h1 style=\"text-align: center;\">Modulação AM</h1>\n",
    "\n",
    "<h3 style=\"text-align: center;\">Disciplina: Princípios de Comunicação</h3>\n",
    "\n",
    "\n",
    "<p style=\"text-align: center;\">Prof. Daniel C. Araújo</p>\n"
   ]
  },
  {
   "cell_type": "markdown",
   "metadata": {},
   "source": [
    "# Conteúdo\n",
    "\n",
    "1. Introdução \n",
    "2. Modulação AM-DSB \n",
    "3. Modulação AM convencional\n",
    "4. Modualçao AM-SSB\n",
    "5. PLL"
   ]
  },
  {
   "cell_type": "markdown",
   "metadata": {},
   "source": [
    "<h1 style=\"text-align: center;\">Introdução</h1>"
   ]
  },
  {
   "cell_type": "markdown",
   "metadata": {},
   "source": [
    "# Conceito \n",
    "![modAM](Figs\\AM\\transmissao.png \"Modulador AM\")\n",
    "\n",
    "## Vantagens \n",
    " - Conversão de frequência\n",
    " - Redução do tamanho das antenas\n",
    " - Acomodar diferentes sinais \n"
   ]
  },
  {
   "cell_type": "markdown",
   "metadata": {},
   "source": [
    "## Tipos de modulação\n",
    "\n",
    " - DSB-SC AM\n",
    "    - Double Sideband Suppressed Carrier \n",
    " - AM convencional (DSB-FC)\n",
    "    - Double Sideband Full Carrier\n",
    " - SSB\n",
    "    - Single Sideband \n",
    " - VSB\n",
    "    - Vestigial Sideband\n"
   ]
  },
  {
   "cell_type": "markdown",
   "metadata": {},
   "source": [
    "<h1 style=\"text-align: center;\">DSB-SC AM</h1>\n",
    "\n"
   ]
  },
  {
   "cell_type": "markdown",
   "metadata": {},
   "source": []
  },
  {
   "cell_type": "code",
   "execution_count": 2,
   "metadata": {
    "slideshow": {
     "slide_type": "subslide"
    }
   },
   "outputs": [
    {
     "data": {
      "image/png": "[encoded data removed]",
      "text/plain": [
       "<Figure size 432x288 with 4 Axes>"
      ]
     },
     "metadata": {
      "needs_background": "light"
     },
     "output_type": "display_data"
    }
   ],
   "source": [
    "def m_t(t, amplitude, frequency):\n",
    "    return amplitude * np.sin(2 * np.pi * frequency * t)\n",
    "\n",
    "t = np.linspace(0, 1, 1000) \n",
    "\n",
    "# Parâmetros iniciais\n",
    "init_amplitude = 5\n",
    "init_frequency = 3\n",
    "\n",
    "# Criar figura\n",
    "fig, ax = plt.subplots()\n",
    "line, = ax.plot(t, m_t(t, init_amplitude, init_frequency), lw=2)\n",
    "ax.set_xlabel('Tempo [s]')\n",
    "\n",
    "# Ajuste da janeal\n",
    "fig.subplots_adjust(left=0.25, bottom=0.25)\n",
    "\n",
    "# Criar slider da frequência\n",
    "axfreq = fig.add_axes([0.25, 0.1, 0.65, 0.03])\n",
    "freq_slider = Slider(\n",
    "    ax=axfreq,\n",
    "    label='Frequência [Hz]',\n",
    "    valmin=0.1,\n",
    "    valmax=30,\n",
    "    valinit=init_frequency,\n",
    ")\n",
    "\n",
    "# Criar slider de amplitude\n",
    "axamp = fig.add_axes([0.1, 0.25, 0.0225, 0.63])\n",
    "amp_slider = Slider(\n",
    "    ax=axamp,\n",
    "    label=\"Amplitude\",\n",
    "    valmin=0,\n",
    "    valmax=10,\n",
    "    valinit=init_amplitude,\n",
    "    orientation=\"vertical\"\n",
    ")\n",
    "\n",
    "# Função que será chamada \n",
    "def update(val):\n",
    "    line.set_ydata(m_t(t, amp_slider.val, freq_slider.val))\n",
    "    fig.canvas.draw_idle()\n",
    "\n",
    "# Registrador para cada slider\n",
    "freq_slider.on_changed(update)\n",
    "amp_slider.on_changed(update)\n",
    "\n",
    "# Resetar as configurações\n",
    "resetax = fig.add_axes([0.8, 0.025, 0.1, 0.04])\n",
    "button = Button(resetax, 'Reset', hovercolor='0.975')\n",
    "\n",
    "\n",
    "def reset(event):\n",
    "    freq_slider.reset()\n",
    "    amp_slider.reset()\n",
    "button.on_clicked(reset)\n",
    "\n",
    "plt.show()\n"
   ]
  },
  {
   "cell_type": "code",
   "execution_count": null,
   "metadata": {},
   "outputs": [],
   "source": []
  }
 ],
 "metadata": {
  "kernelspec": {
   "display_name": "Python 3 (ipykernel)",
   "language": "python",
   "name": "python3"
  },
  "language_info": {
   "codemirror_mode": {
    "name": "ipython",
    "version": 3
   },
   "file_extension": ".py",
   "mimetype": "text/x-python",
   "name": "python",
   "nbconvert_exporter": "python",
   "pygments_lexer": "ipython3",
   "version": "3.9.12"
  },
  "vscode": {
   "interpreter": {
    "hash": "1453a371f7b5b11598460e9785516242901c67d06a1c5df60136cd4a24f4c26d"
   }
  }
 },
 "nbformat": 4,
 "nbformat_minor": 2
}
