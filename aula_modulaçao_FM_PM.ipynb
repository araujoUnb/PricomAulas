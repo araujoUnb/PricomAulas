{
 "cells": [
  {
   "cell_type": "code",
   "execution_count": 1,
   "metadata": {},
   "outputs": [],
   "source": [
    "import numpy as np\n",
    "import matplotlib.pyplot as plt\n",
    "import ipywidgets as widgets\n",
    "import plotly.express as px\n",
    "import plotly.graph_objects as go"
   ]
  },
  {
   "cell_type": "markdown",
   "metadata": {},
   "source": [
    "\n",
    "<img src=\"https://github.com/araujoUnb/PricomAulas/blob/main/Figs/fga.png?raw=true\" alt=\"isolated\"/>"
   ]
  },
  {
   "cell_type": "markdown",
   "metadata": {},
   "source": [
    "\n",
    "\n",
    "<h1 style=\"text-align: center;\">Modulação FM/PM</h1>\n",
    "\n",
    "<h3 style=\"text-align: center;\">Disciplina: Princípios de Comunicação</h3>\n",
    "\n",
    "\n",
    "<p style=\"text-align: center;\">Prof. Daniel C. Araújo</p>"
   ]
  },
  {
   "cell_type": "markdown",
   "metadata": {},
   "source": [
    "<h1 style=\"text-align: center;\">Modelo de Sinal</h1>"
   ]
  },
  {
   "cell_type": "markdown",
   "metadata": {},
   "source": [
    "## O que é frequência ?\n",
    "\n",
    "Em uma definição geral, a frequência é taxa de variação com que a fase do sinal varia ao longo do tempo\n",
    "\n",
    "$$\n",
    "f_i(t) = f_c + \\frac{1}{2\\pi}\\frac{d}{dt} \\phi (t)\n",
    "$$"
   ]
  },
  {
   "cell_type": "markdown",
   "metadata": {},
   "source": [
    "## Conceito \n",
    "\n",
    "Considere o sinal de banda-passante\n",
    "\n",
    "$$\n",
    "u(t) = A_c \\cos (2\\pi f_c t + \\phi (t))\n",
    "$$\n",
    "\n",
    "Há duas maneiras de alteramos a fase do sinal \n",
    "\n",
    "1. Modulação PM  $\\rightarrow$ $\\phi(t) = k_p m(t)$ \n",
    "2. Modulação FM \n",
    "$$\n",
    "\\begin{align*}\n",
    "f_i(t) - f_c & = k_f m(t) \\\\\n",
    "f_i(t) - f_c & = \\frac{1}{2\\pi}\\frac{d}{dt} \\phi (t) \\\\\n",
    "\\frac{d}{dt} \\phi (t) & = 2\\pi k_f m(t) \\\\ \n",
    "\\phi (t) & = 2\\pi k_f \\int_{-\\infty}^{t} m(\\tau) d\\tau \\\\ \n",
    "\\end{align*}\n",
    "$$"
   ]
  },
  {
   "cell_type": "markdown",
   "metadata": {},
   "source": [
    "## Representação em fase e frequência\n",
    "\n",
    "1. Fase do sinal de banda-passante\n",
    "   $$\n",
    "   \\phi (t) = \\begin{cases}\n",
    "    k_p m(t), & PM \\\\\n",
    "    2\\pi k_f \\int_{-\\infty}^{t} m(\\tau) d\\tau , & FM \\\\ \n",
    "   \\end{cases}\n",
    "   $$\n",
    "\n",
    "2. Frequência do sinal de banda passante\n",
    "\n",
    " $$\n",
    "   \\frac{1}{2\\pi}\\frac{d}{dt} \\phi (t) = \\begin{cases}\n",
    "    k_p\\frac{1}{2\\pi} \\frac{d}{dt} m(t), & PM \\\\\n",
    "    k_f  m(t)  , & FM \\\\ \n",
    "   \\end{cases}\n",
    " $$"
   ]
  },
  {
   "cell_type": "markdown",
   "metadata": {},
   "source": [
    "Desvio de fase e frequência\n",
    "\n",
    "1.  Modulação PM\n",
    "    1. Desvio máximo de fase $\\Delta \\phi _{max} = k_p \\max {|m(t)|}$\n",
    "2.  Modulção FM\n",
    "    1. Desvio máximo de frequência  $\\Delta f _{max} = k_p \\max {|m(t)|}$"
   ]
  },
  {
   "cell_type": "markdown",
   "metadata": {},
   "source": [
    "## Equivalências\n",
    "\n",
    "* Modulador FM = Integrador + Modulador PM\n",
    "* Modulador PM = Derivador + Modulador FM"
   ]
  },
  {
   "cell_type": "markdown",
   "metadata": {},
   "source": [
    "# Índice de Modulação\n",
    "\n",
    "Considere a mensagem $m(t)$\n",
    "\n",
    "$$\n",
    "m(t) = a \\cos (2\\pi f_m t)\n",
    "$$\n",
    "\n",
    "Utilize-a para obter a expressão do sinal modulado em frequência e \n",
    "\n",
    "$$\n",
    "\\begin{align*}\n",
    "\\phi (t) &= k_p a \\cos (2\\pi f_m t), \\,\\ \\text{Sinal PM} \\\\\n",
    "\\phi (t) &= 2\\pi k_f \\int_{-\\infty}^{t} m(\\tau)  d\\tau =  \\frac{a k_f }{f_m}\\sin (2\\pi f_m t), \\,\\ \\text{Sinal FM} \\\\\n",
    "\\end{align*}\n",
    "$$\n",
    "\n",
    "* O indice de modulação para o sinal FM é \n",
    "$$\n",
    "\\beta _p = k_p a\n",
    "$$\n",
    "\n",
    "* O indice de modulação para o sinal PM é \n",
    "$$\n",
    "\\begin{align*}\n",
    "\\beta _f &=  \\frac{a k_f }{f_m}  \\\\\n",
    "         &=  \\frac{\\Delta f_{max} }{f_m}  \\\\  \n",
    "\\end{align*}\n",
    "\n",
    "$$"
   ]
  },
  {
   "cell_type": "markdown",
   "metadata": {},
   "source": []
  }
 ],
 "metadata": {
  "kernelspec": {
   "display_name": "Python 3.9.12 ('unb')",
   "language": "python",
   "name": "python3"
  },
  "language_info": {
   "codemirror_mode": {
    "name": "ipython",
    "version": 3
   },
   "file_extension": ".py",
   "mimetype": "text/x-python",
   "name": "python",
   "nbconvert_exporter": "python",
   "pygments_lexer": "ipython3",
   "version": "3.9.12"
  },
  "orig_nbformat": 4,
  "vscode": {
   "interpreter": {
    "hash": "9630fc77398032981978f73df441ebb4d15f3f3030f3913be2df7d5804cb23bb"
   }
  }
 },
 "nbformat": 4,
 "nbformat_minor": 2
}
