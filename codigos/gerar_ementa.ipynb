{
 "cells": [
  {
   "cell_type": "code",
   "execution_count": 6,
   "metadata": {},
   "outputs": [],
   "source": [
    "from mdutils.mdutils import MdUtils as md\n",
    "from mdutils import Html"
   ]
  },
  {
   "cell_type": "code",
   "execution_count": 7,
   "metadata": {},
   "outputs": [],
   "source": [
    "disciplina = 'Principios de Comunicação para Engenharia'\n",
    "professor  = 'Daniel Costa Araújo'"
   ]
  },
  {
   "cell_type": "code",
   "execution_count": 8,
   "metadata": {},
   "outputs": [],
   "source": [
    "texto_descricao = ''.join( [\" Esta disciplina irá cobrir os fundamentos de comunicações analógico e digital.\",\n",
    "                   \" Será estudado as técnicas de transmissão analógica que inclui modulação em amplitude modulação angular,\",\n",
    "                   \" e o impacto do ruído em sistemas analógicos. O estudo de sistemas digitais irá compreender aspectos de\",\n",
    "                   \" comunicação em banda-base como taxa de amostragem, de transmissão e de símbolos; codificação de linha e\",\n",
    "                   \" formatação de pulsos: análise espectral de codificações comumente usadas;  interferência entre símbolo (ISIS)\",\n",
    "                   \" e critérios de Nyquist para redução de ISI; relação entre taxa de transmissão e largura de banda.\"] )\n",
    "\n",
    "ementa_descricao = [ \"Modulações lineares\", \n",
    "                     \"Modulação Angular\", \n",
    "                     \"Ruído em sistemas analógicos\", \n",
    "                     \"Comunicação digital em banda base\"]\n",
    "\n",
    "programa_lista = [ \"1. Modulações lineares\",\n",
    "   [\"+ AM-DSB\",\n",
    "   \"+ AM-convencional\",\n",
    "   \"+ SSB\",\n",
    "   \"+ VSB\"],\n",
    "   \"2. Modulação Angular\",[\n",
    "   \"+ Modulação PM\",\n",
    "   \"+ Modulação FM\",\n",
    "   \"+ Métodos de geração direto e indireto (Armstrong)\",\n",
    "   \"+ PLL\"],\n",
    "   \"3. Ruído em sistemas analógicos\",[\n",
    "   \"+  Definição e propriedades básicas de ruído branco gaussiano\",\n",
    "   \"+  Definição de relação sinal-ruído (SNR)\",\n",
    "   \"+  Expressões para SNR à entrada e saída de demoduladores básicos \"], \n",
    "   \"4. Comunicação digital em banda base \",[\n",
    "   \"+  Amostragem e Quantização\",\n",
    "   \"+  PCM linear e não-linear\",\n",
    "   \"+  Pulso formatador\",\n",
    "   \"+  interferência entre símbolo (ISIS)\",\n",
    "   \"+  critérios de Nyquist para redução de ISI; \",\n",
    "   \"+ relação entre taxa de transmissão e largura de banda\"]\n",
    "\n",
    "]"
   ]
  },
  {
   "cell_type": "code",
   "execution_count": 9,
   "metadata": {},
   "outputs": [],
   "source": [
    "list_sections = ['Descrição Geral', 'Ementa','Programa']"
   ]
  },
  {
   "cell_type": "code",
   "execution_count": 10,
   "metadata": {},
   "outputs": [
    {
     "data": {
      "text/plain": [
       "<mdutils.fileutils.fileutils.MarkDownFile at 0x1bc7d0625e0>"
      ]
     },
     "execution_count": 10,
     "metadata": {},
     "output_type": "execute_result"
    }
   ],
   "source": [
    "mdfile = md(file_name='README.md')\n",
    "mdfile.new_line(Html.image(path=\"https://github.com/araujoUnb/PricomAulas/blob/main/Figs/fga.png?raw=true\", size='1000', align='center'))\n",
    "\n",
    "mdfile.write(' \\n')\n",
    "mdfile.new_header(level=1, title=disciplina)\n",
    "\n",
    "mdfile.new_header(level=2, title=list_sections[0])\n",
    "mdfile.write(texto_descricao)\n",
    "\n",
    "\n",
    "mdfile.new_header(level=2, title=list_sections[1])\n",
    "mdfile.new_list(ementa_descricao)\n",
    "\n",
    "mdfile.new_header(level=2, title=list_sections[2])\n",
    "mdfile.new_list(programa_lista)\n",
    "\n",
    "mdfile.create_md_file()"
   ]
  },
  {
   "cell_type": "code",
   "execution_count": null,
   "metadata": {},
   "outputs": [],
   "source": []
  }
 ],
 "metadata": {
  "kernelspec": {
   "display_name": "Python 3.9.12 ('unb')",
   "language": "python",
   "name": "python3"
  },
  "language_info": {
   "codemirror_mode": {
    "name": "ipython",
    "version": 3
   },
   "file_extension": ".py",
   "mimetype": "text/x-python",
   "name": "python",
   "nbconvert_exporter": "python",
   "pygments_lexer": "ipython3",
   "version": "3.9.12"
  },
  "orig_nbformat": 4,
  "vscode": {
   "interpreter": {
    "hash": "9630fc77398032981978f73df441ebb4d15f3f3030f3913be2df7d5804cb23bb"
   }
  }
 },
 "nbformat": 4,
 "nbformat_minor": 2
}
