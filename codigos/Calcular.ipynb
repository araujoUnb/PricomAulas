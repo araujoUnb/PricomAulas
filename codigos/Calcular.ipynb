{
 "cells": [
  {
   "cell_type": "code",
   "execution_count": 6,
   "metadata": {},
   "outputs": [],
   "source": [
    "import numpy as np\n",
    "from scipy.special import jv"
   ]
  },
  {
   "cell_type": "code",
   "execution_count": 12,
   "metadata": {},
   "outputs": [
    {
     "name": "stdout",
     "output_type": "stream",
     "text": [
      "0.605\n"
     ]
    }
   ],
   "source": [
    "n = 0\n",
    "beta = 2\n",
    "\n",
    "Po = (25)/2 * 0.22**2\n",
    "\n",
    "print(Po)"
   ]
  },
  {
   "cell_type": "code",
   "execution_count": 15,
   "metadata": {},
   "outputs": [
    {
     "name": "stdout",
     "output_type": "stream",
     "text": [
      "[1.61179062 4.41042536 7.2090601  2.79863474 7.2090601  4.41042536\n",
      " 1.61179062]\n"
     ]
    }
   ],
   "source": [
    "print(np.abs(12.5*jv([-3,-2,-1,0,1,2,3],beta)))"
   ]
  },
  {
   "cell_type": "code",
   "execution_count": 20,
   "metadata": {},
   "outputs": [
    {
     "name": "stdout",
     "output_type": "stream",
     "text": [
      "item 1 2000\n",
      "item 2 é [2.45036638 0.838696   1.25940893 1.63280967 0.83930298 1.63280967\n",
      " 1.25940893 0.838696   2.45036638]\n",
      "A potência total é 13.201864942152628\n"
     ]
    }
   ],
   "source": [
    "print('item 1', 2000)\n",
    "print('item 2 é',(10**2/2)*jv([-4,-3,-2,-1,0,1,2,3,4],12.4)**2)\n",
    "print('A potência total é', np.sum((10**2/2)*jv([-4,-3,-2,-1,0,1,2,3,4],12.4)**2))\n"
   ]
  },
  {
   "cell_type": "code",
   "execution_count": null,
   "metadata": {},
   "outputs": [],
   "source": []
  }
 ],
 "metadata": {
  "kernelspec": {
   "display_name": "Python 3",
   "language": "python",
   "name": "python3"
  },
  "language_info": {
   "codemirror_mode": {
    "name": "ipython",
    "version": 3
   },
   "file_extension": ".py",
   "mimetype": "text/x-python",
   "name": "python",
   "nbconvert_exporter": "python",
   "pygments_lexer": "ipython3",
   "version": "3.10.9 (main, Dec 19 2022, 17:35:49) [GCC 12.2.0]"
  },
  "orig_nbformat": 4,
  "vscode": {
   "interpreter": {
    "hash": "e7370f93d1d0cde622a1f8e1c04877d8463912d04d973331ad4851f04de6915a"
   }
  }
 },
 "nbformat": 4,
 "nbformat_minor": 2
}
