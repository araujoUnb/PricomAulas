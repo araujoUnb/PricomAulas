{
 "cells": [
  {
   "cell_type": "code",
   "execution_count": 1,
   "metadata": {},
   "outputs": [],
   "source": [
    "import numpy as np\n",
    "import matplotlib.pyplot as plt\n",
    "import ipywidgets as widgets\n",
    "from Modulacao_AM.modAM import mod_dsbsc_am, demod_dsbsc_am, demod_AM_convecional, mod_AM_convencional"
   ]
  },
  {
   "cell_type": "markdown",
   "metadata": {},
   "source": [
    "\n",
    "<img src=\"Figs/fga.png\" alt=\"isolated\"/>"
   ]
  },
  {
   "cell_type": "markdown",
   "metadata": {},
   "source": [
    "\n",
    "\n",
    "<h1 style=\"text-align: center;\">Modulação AM</h1>\n",
    "\n",
    "<h3 style=\"text-align: center;\">Disciplina: Princípios de Comunicação</h3>\n",
    "\n",
    "\n",
    "<p style=\"text-align: center;\">Prof. Daniel C. Araújo</p>\n"
   ]
  },
  {
   "cell_type": "markdown",
   "metadata": {},
   "source": [
    "## Conteúdo\n",
    "\n",
    "1. Introdução \n",
    "2. Modulação AM-DSB \n",
    "3. Modulação AM convencional\n",
    "4. Modualçao AM-SSB\n",
    "5. Exemplo de Moduladores"
   ]
  },
  {
   "cell_type": "markdown",
   "metadata": {
    "tags": []
   },
   "source": [
    "<h1 style=\"text-align: center;\">Introdução</h1>"
   ]
  },
  {
   "cell_type": "markdown",
   "metadata": {},
   "source": [
    "## Conceito \n",
    "![modAM](Figs\\AM\\transmissao.png \"Modulador AM\")\n",
    "\n",
    "## Vantagens \n",
    " - Conversão de frequência\n",
    " - Redução do tamanho das antenas\n",
    " - Acomodar diferentes sinais \n"
   ]
  },
  {
   "cell_type": "markdown",
   "metadata": {},
   "source": [
    "## Tipos de modulação\n",
    "\n",
    " - DSB-SC AM\n",
    "    - Double Sideband Suppressed Carrier \n",
    " - AM convencional (DSB-FC)\n",
    "    - Double Sideband Full Carrier\n",
    " - SSB\n",
    "    - Single Sideband \n",
    " - VSB\n",
    "    - Vestigial Sideband\n"
   ]
  },
  {
   "cell_type": "markdown",
   "metadata": {},
   "source": [
    "<h1 style=\"text-align: center;\">DSB-SC AM</h1>\n",
    "\n"
   ]
  },
  {
   "cell_type": "markdown",
   "metadata": {},
   "source": [
    "## Definição da mensagem\n",
    "\n",
    "  - Considere, sem perda de generalidade, uma mensagem \n",
    "\n",
    "  $$ \n",
    "  m(t) = A_m cos(2\\pi f_m t)\n",
    "  $$"
   ]
  },
  {
   "cell_type": "code",
   "execution_count": 2,
   "metadata": {
    "slideshow": {
     "slide_type": "subslide"
    }
   },
   "outputs": [
    {
     "data": {
      "application/vnd.jupyter.widget-view+json": {
       "model_id": "d112b07b18c94e548c03b42b64a52b9d",
       "version_major": 2,
       "version_minor": 0
      },
      "text/plain": [
       "Output()"
      ]
     },
     "metadata": {},
     "output_type": "display_data"
    },
    {
     "data": {
      "application/vnd.jupyter.widget-view+json": {
       "model_id": "c81edb6916a0489aa37834198313f6e0",
       "version_major": 2,
       "version_minor": 0
      },
      "text/plain": [
       "HBox(children=(FloatSlider(value=1.0, description='Amplitude [V]', max=5.0, min=1.0, step=0.5), FloatSlider(va…"
      ]
     },
     "metadata": {},
     "output_type": "display_data"
    }
   ],
   "source": [
    "def m_t(amplitude, frequency):\n",
    "    t = np.linspace(0, 1, 1000) \n",
    "    return amplitude * np.cos(2 * np.pi * frequency * t), t\n",
    "\n",
    "def plot_messagem(amplitude, frequency):\n",
    "    m, t =  m_t(amplitude, frequency)\n",
    "    plt.ylim(-5,5)\n",
    "    plt.plot(t,m)\n",
    "    plt.show()\n",
    "\n",
    "\n",
    "a = widgets.FloatSlider(min=1,max=5,step=0.5, description=\"Amplitude [V]\")\n",
    "f = widgets.FloatSlider(min=10,max=100,step=1, description=\"frequência [Hz]\")\n",
    "\n",
    "# An HBox lays out its children horizontally\n",
    "ui = widgets.HBox([a, f])\n",
    "\n",
    "out = widgets.interactive_output(plot_messagem, {'amplitude': a, 'frequency': f})\n",
    "\n",
    "display(out, ui)\n",
    "\n",
    "\n",
    "\n"
   ]
  },
  {
   "cell_type": "markdown",
   "metadata": {},
   "source": [
    "## Definição da portadora\n",
    "\n",
    " - Para transmitir a informação, considere um função senoidal  \n",
    "\n",
    "  \n",
    "  $$ c(t) = A_c cos(2\\pi f_c t + \\phi _c)\n",
    "  $$\n",
    "\n",
    "-  O sinal modulado na saída do modulador AM-DSB é  \n",
    "\n",
    "    $$\n",
    "       s(t) = m(t)*c(t)\n",
    "    $$\n"
   ]
  },
  {
   "cell_type": "code",
   "execution_count": 3,
   "metadata": {},
   "outputs": [
    {
     "data": {
      "application/vnd.jupyter.widget-view+json": {
       "model_id": "e2644163d8e9473ba966f2fe14976ebd",
       "version_major": 2,
       "version_minor": 0
      },
      "text/plain": [
       "Output()"
      ]
     },
     "metadata": {},
     "output_type": "display_data"
    },
    {
     "data": {
      "application/vnd.jupyter.widget-view+json": {
       "model_id": "8a24c33e724a4db5b8919423320e160a",
       "version_major": 2,
       "version_minor": 0
      },
      "text/plain": [
       "HBox(children=(FloatSlider(value=0.1, description='Amplitude [V]', max=1.0, min=0.1, step=0.01), FloatSlider(v…"
      ]
     },
     "metadata": {},
     "output_type": "display_data"
    }
   ],
   "source": [
    "N_samples = 1000                 # Número de amostras\n",
    "fs = 2e3                         # Frequência de amostragem\n",
    "T_simul  = N_samples/fs          # Tempo de simulação\n",
    "\n",
    "\n",
    "def sinal_modulado(A_m , f_m, f_c):\n",
    "    A_c = 1\n",
    "    t = np.linspace(0,N_samples-1,N_samples)/fs  # Instantes de tempo\n",
    "    m_t = A_m*np.cos(2*np.pi*f_m*t)\n",
    "    u_t = mod_dsbsc_am(m_t,t,A_c,f_c,0)\n",
    "\n",
    "    return  u_t, t, m_t\n",
    "\n",
    "def plot_sinal_modulado(A_m , f_m, f_c = 125):\n",
    "    s, t , m_t= sinal_modulado(A_m,f_m, f_c )\n",
    "    plt.plot(t,s)\n",
    "    plt.plot(t,m_t,'g--')\n",
    "    plt.ylim(-1.2,1.2)\n",
    "    plt.show()\n",
    "\n",
    "\n",
    "a = widgets.FloatSlider(min=0.1,max=1,step=0.01, description=\"Amplitude [V]\")\n",
    "f = widgets.FloatSlider(min=2,max=10,step=1, description=\"frequência [Hz]\")\n",
    "\n",
    "# An HBox lays out its children horizontally\n",
    "ui = widgets.HBox([a,f])\n",
    "\n",
    "out = widgets.interactive_output(plot_sinal_modulado, {'A_m': a,'f_m':f})\n",
    "\n",
    "display(out, ui)"
   ]
  },
  {
   "cell_type": "markdown",
   "metadata": {},
   "source": [
    "## Representação em Frequência\n",
    "\n"
   ]
  },
  {
   "cell_type": "code",
   "execution_count": 4,
   "metadata": {},
   "outputs": [
    {
     "data": {
      "application/vnd.jupyter.widget-view+json": {
       "model_id": "8fe1074f43d64c27b989c17d3f63e7c7",
       "version_major": 2,
       "version_minor": 0
      },
      "text/plain": [
       "Output()"
      ]
     },
     "metadata": {},
     "output_type": "display_data"
    },
    {
     "data": {
      "application/vnd.jupyter.widget-view+json": {
       "model_id": "1ff6602eb2e44b09a28e02708be8cc48",
       "version_major": 2,
       "version_minor": 0
      },
      "text/plain": [
       "HBox(children=(FloatSlider(value=0.1, description='Amplitude [V]', max=1.0, min=0.1, step=0.01), FloatSlider(v…"
      ]
     },
     "metadata": {},
     "output_type": "display_data"
    }
   ],
   "source": [
    "## Visualização do espectro\n",
    "def espectro_am_dsb(A_m , f_c , f_m ):\n",
    "   u_t, t, m_t = sinal_modulado(A_m , f_m, f_c)\n",
    "   U_f = np.fft.fftshift(np.fft.fft(u_t))\n",
    "   f = np.linspace(-fs/2,fs/2,N_samples)\n",
    "   return U_f, f\n",
    "\n",
    "def plot_espectro(A_m , f_c, f_m = 5):\n",
    "    U_f, f = espectro_am_dsb(A_m , f_c, f_m)\n",
    "    plt.plot(f,np.abs(U_f))\n",
    "    plt.xlim(np.min(f),np.max(f))\n",
    "    plt.show()\n",
    "\n",
    "\n",
    "a = widgets.FloatSlider(min=0.1,max=1,step=0.01, description=\"Amplitude [V]\")\n",
    "f = widgets.FloatSlider(min=100,max=500,step=10, description=\"frequência da portadora [Hz]\")\n",
    "\n",
    "# An HBox lays out its children horizontally\n",
    "ui = widgets.HBox([a,f])\n",
    "\n",
    "out = widgets.interactive_output(plot_espectro, {'A_m': a,'f_c':f})\n",
    "\n",
    "display(out, ui)"
   ]
  },
  {
   "cell_type": "markdown",
   "metadata": {},
   "source": [
    "## Análise em frequência\n",
    "Considere o sinal transmitido no tempo:\n",
    "$$\n",
    " u(t) = m(t)\\cos(2\\pi f_c t) \n",
    "$$\n",
    "Utilizando a transformada de Fourier:\n",
    "$$\n",
    " U(f) = M(f) \\circ C(f) \\newline\n",
    "      = M(f) \\circ \\frac{1}{2}(\\delta (f - f_c) + \\delta (f - f_c))  \\newline\n",
    "      =  M(f) \\circ \\frac{1}{2}\\delta(f - f_c) +  M(f) \\circ \\frac{1}{2}\\delta(f - f_c) \\newline \n",
    "      = \\frac{1}{2} M(f - f_c) + \\frac{1}{2}M(f + f_c)\n",
    "$$\n",
    "\n",
    "IMPORTANTE: A modualação AM desloca o espectro da mensagem para a frequência da portadora."
   ]
  },
  {
   "cell_type": "markdown",
   "metadata": {},
   "source": [
    "## Potência do sinal transmitido\n",
    "$$\n",
    " P_n = \\lim _ {T \\rightarrow \\infty} \\int _{-T/2}^{T/2} u^2(t) dt \\newline\n",
    "     =  \\lim _ {T \\rightarrow \\infty} \\int _{-T/2}^{T/2} A_c^2 m^2(t)\\cos^2(2\\pi f_c t)  dt \\newline\n",
    "     = \\frac{A_c^2}{2} \\lim _ {T \\rightarrow \\infty} \\int _{-T/2}^{T/2}  m^2(t)[1 + \\cos(4\\pi f_c t)]dt \\newline\n",
    "     =  \\frac{A_c^2}{2} P_m\n",
    "     $$\n",
    "\n",
    "em que, $P_n = \\lim _ {T \\rightarrow \\infty} \\int _{-T/2}^{T/2} m^2(t)dt$"
   ]
  },
  {
   "cell_type": "markdown",
   "metadata": {},
   "source": [
    "## Demodualação de sinais DSB-SC\n",
    "Para simplificar nossa análise considere o sinal recebido igual ao sinal transmitido \n",
    "$$\n",
    "r(t) = u(t) \\newline\n",
    "r(t)    = m(t)\\cos(2\\pi f_c t) \n",
    "$$\n",
    "Como primeiro passo, utilizamos um oscilador local para realocar a mensagem em sua frequência original.\n",
    "$$\n",
    "r(t)\\cos(2\\pi f_c t + \\phi) =  m(t)\\cos(2\\pi f_c t) \\cos(2\\pi f_c t + \\phi) \\newline \n",
    "r(t)\\cos(2\\pi f_c t + \\phi) =  \\frac{1}{2}m(t)[\\cos(\\phi) + \\cos(4\\pi f_c t + \\phi)]\n",
    "\n",
    "$$\n",
    "OBSERVAÇÕES: \n",
    "\n",
    " - Presença de componente de alta-frequência\n",
    " - Necessário remover\n",
    " - $\\phi$ indica sincronização necessária"
   ]
  },
  {
   "cell_type": "markdown",
   "metadata": {},
   "source": [
    "## Filtragem \n",
    "![demodAM](Figs\\AM\\receptor.png \"Receptor AM\")"
   ]
  },
  {
   "cell_type": "code",
   "execution_count": 5,
   "metadata": {},
   "outputs": [
    {
     "data": {
      "text/plain": [
       "Text(0, 0.5, 'Sinal multiplicado')"
      ]
     },
     "execution_count": 5,
     "metadata": {},
     "output_type": "execute_result"
    },
    {
     "data": {
      "image/png": "[encoded data removed]",
      "text/plain": [
       "<Figure size 640x480 with 1 Axes>"
      ]
     },
     "metadata": {},
     "output_type": "display_data"
    }
   ],
   "source": [
    "N_samples = 1000                 # Número de amostras\n",
    "fs = 2e3                         # Frequência de amostragem\n",
    "T_simul  = N_samples/fs          # Tempo de simulação\n",
    "t = np.linspace(0,N_samples-1,N_samples)/fs  # Instantes de tempo\n",
    "\n",
    "# Definir sinal mensagem\n",
    "fm  = 5\n",
    "A_m = 2\n",
    "m_t = np.cos(2*np.pi*fm*t)\n",
    "\n",
    "# Modualação\n",
    "\n",
    "fc = 125\n",
    "A_c = 1\n",
    "u_t = mod_dsbsc_am(m_t,t,A_c,fc,0)\n",
    "\n",
    "# Demodulação\n",
    "cutoff = fm + 20\n",
    "g_t, r_t = demod_dsbsc_am(u_t,t,A_c,fc,cutoff,fs)\n",
    "\n",
    "R_f = np.fft.fftshift(np.fft.fft(r_t))\n",
    "f = np.linspace(-fs/2,fs/2,N_samples)\n",
    "\n",
    "plt.plot(f,np.abs(R_f))\n",
    "plt.xlabel('Frequência (Hz)')\n",
    "plt.ylabel('Sinal multiplicado')"
   ]
  },
  {
   "cell_type": "code",
   "execution_count": 6,
   "metadata": {},
   "outputs": [
    {
     "data": {
      "text/plain": [
       "Text(0, 0.5, 'Sinal multiplicado')"
      ]
     },
     "execution_count": 6,
     "metadata": {},
     "output_type": "execute_result"
    },
    {
     "data": {
      "image/png": "[encoded data removed]",
      "text/plain": [
       "<Figure size 640x480 with 1 Axes>"
      ]
     },
     "metadata": {},
     "output_type": "display_data"
    }
   ],
   "source": [
    "G_f = np.fft.fftshift(np.fft.fft(g_t))\n",
    "plt.plot(f,np.abs(G_f))\n",
    "plt.xlabel('Frequência (Hz)')\n",
    "plt.ylabel('Sinal multiplicado')"
   ]
  },
  {
   "cell_type": "code",
   "execution_count": 7,
   "metadata": {},
   "outputs": [
    {
     "data": {
      "text/plain": [
       "Text(0, 0.5, 'Mensagem estimada')"
      ]
     },
     "execution_count": 7,
     "metadata": {},
     "output_type": "execute_result"
    },
    {
     "data": {
      "image/png": "[encoded data removed]",
      "text/plain": [
       "<Figure size 640x480 with 1 Axes>"
      ]
     },
     "metadata": {},
     "output_type": "display_data"
    }
   ],
   "source": [
    "amp = 2\n",
    "plt.plot(t,amp*g_t)\n",
    "plt.plot(t,m_t)\n",
    "plt.xlabel('tempo (s)')\n",
    "plt.ylabel('Mensagem estimada')"
   ]
  },
  {
   "cell_type": "markdown",
   "metadata": {},
   "source": [
    "<h1 style=\"text-align: center;\">AM Convecional</h1>"
   ]
  },
  {
   "cell_type": "markdown",
   "metadata": {},
   "source": [
    "## AM - Convencional : Definição\n",
    "![conceito](Figs\\AM\\am_conv.png \"Conceito de AM-convencional\")"
   ]
  },
  {
   "cell_type": "code",
   "execution_count": 8,
   "metadata": {},
   "outputs": [
    {
     "data": {
      "application/vnd.jupyter.widget-view+json": {
       "model_id": "e85bcb2031464b99ad634d447db6fbda",
       "version_major": 2,
       "version_minor": 0
      },
      "text/plain": [
       "Output()"
      ]
     },
     "metadata": {},
     "output_type": "display_data"
    },
    {
     "data": {
      "application/vnd.jupyter.widget-view+json": {
       "model_id": "a22295e42bf146a6920caef6aa89dd42",
       "version_major": 2,
       "version_minor": 0
      },
      "text/plain": [
       "HBox(children=(FloatSlider(value=0.1, description='Índice de modulação ', max=1.5, min=0.1, step=0.01), FloatS…"
      ]
     },
     "metadata": {},
     "output_type": "display_data"
    }
   ],
   "source": [
    "N_samples = 1000                 # Número de amostras\n",
    "fs = 2e3                         # Frequência de amostragem\n",
    "T_simul  = N_samples/fs          # Tempo de simulação\n",
    "\n",
    "\n",
    "def sinal_modulado(A_m , alpha, f_m, f_c):\n",
    "    A_c = 1\n",
    "    t = np.linspace(0,N_samples-1,N_samples)/fs  # Instantes de tempo\n",
    "    m_t = A_m*np.cos(2*np.pi*f_m*t)\n",
    "    u_t = mod_AM_convencional(m_t,t,A_c,fc,alpha)\n",
    "\n",
    "    return  u_t, t, m_t\n",
    "\n",
    "def plot_sinal_modulado( alpha, f_m, f_c = 125):\n",
    "    A_m = 1\n",
    "    s, t , m_t= sinal_modulado(A_m , alpha, f_m, f_c)\n",
    "    plt.plot(t,s)\n",
    "    plt.plot(t,alpha*m_t + 1,'g--')\n",
    "    plt.ylim(-2,2)\n",
    "    plt.show()\n",
    "\n",
    "\n",
    "a = widgets.FloatSlider(min=0.1,max=1.5,step=0.01, description=\"Índice de modulação \")\n",
    "f = widgets.FloatSlider(min=2,max=10,step=1, description=\"frequência [Hz]\")\n",
    "\n",
    "# An HBox lays out its children horizontally\n",
    "ui = widgets.HBox([a,f])\n",
    "\n",
    "out = widgets.interactive_output(plot_sinal_modulado, {'alpha': a,'f_m':f})\n",
    "\n",
    "display(out, ui)"
   ]
  },
  {
   "cell_type": "markdown",
   "metadata": {},
   "source": [
    "## Representação tempo x frequência"
   ]
  },
  {
   "cell_type": "code",
   "execution_count": 9,
   "metadata": {},
   "outputs": [
    {
     "data": {
      "application/vnd.jupyter.widget-view+json": {
       "model_id": "125107fa29024e03a351daa66872f481",
       "version_major": 2,
       "version_minor": 0
      },
      "text/plain": [
       "Output()"
      ]
     },
     "metadata": {},
     "output_type": "display_data"
    },
    {
     "data": {
      "application/vnd.jupyter.widget-view+json": {
       "model_id": "23e531d3a169453198dddc578d3d81dc",
       "version_major": 2,
       "version_minor": 0
      },
      "text/plain": [
       "HBox(children=(FloatSlider(value=0.1, description='Índice de modulação ', max=1.5, min=0.1, step=0.01), FloatS…"
      ]
     },
     "metadata": {},
     "output_type": "display_data"
    }
   ],
   "source": [
    "## Visualização do espectro\n",
    "def espectro_am_dsb(A_m , alpha, f_c , f_m ):\n",
    "   u_t, t, m_t = sinal_modulado(A_m , alpha, f_m, f_c)\n",
    "   U_f = np.fft.fftshift(np.fft.fft(u_t))\n",
    "   f = np.linspace(-fs/2,fs/2,N_samples)\n",
    "   return U_f, f\n",
    "\n",
    "def plot_espectro(alpha, f_c, f_m = 100):\n",
    "    A_m =1\n",
    "    U_f, f = espectro_am_dsb(A_m ,alpha,  f_c, f_m)\n",
    "    plt.plot(f,np.abs(U_f))\n",
    "    plt.xlim(np.min(f),np.max(f))\n",
    "    plt.show()\n",
    "\n",
    "\n",
    "a = widgets.FloatSlider(min=0.1,max=1.5,step=0.01, description=\"Índice de modulação \")\n",
    "f = widgets.FloatSlider(min=300,max=600,step=20, description=\"frequência [Hz]\")\n",
    "\n",
    "# An HBox lays out its children horizontally\n",
    "ui = widgets.HBox([a,f])\n",
    "\n",
    "out = widgets.interactive_output(plot_espectro, {'alpha': a,'f_c':f})\n",
    "\n",
    "display(out, ui)"
   ]
  },
  {
   "cell_type": "markdown",
   "metadata": {},
   "source": [
    "## Exemplo \n",
    "Obtenha o sinal AM convencional para o sinal mensagem \n",
    "\n",
    "$$\n",
    "m(t) = 3\\cos(200\\pi t) + \\sin(600\\pi t).\n",
    "$$\n",
    "\n",
    "Considere um índice de modulação igual a 0.85 e uma portadora $c(t) = \\cos(2 \\times 10^5t)$. Determine a potência transmitida."
   ]
  },
  {
   "cell_type": "markdown",
   "metadata": {},
   "source": [
    "## Solução\n",
    "Para normalizar o sinal $m(t)$ é necessário encontrar o valor máximo da função.\n",
    "\n",
    "$$\n",
    "m^{\\prime}(t) = -600\\pi\\sin(200\\pi t) + 600\\pi\\cos(600\\pi t)\n",
    "$$\n",
    "Igualando a zero\n",
    "\n",
    "$$\n",
    "\\begin{align*}\n",
    "   -600\\pi\\sin(200\\pi t) + 600\\pi\\cos(600\\pi t) = & 0 \\\\\n",
    "   \\cos(600\\pi t) = & \\sin(200\\pi t)\\\\\n",
    "                  = &  \\cos(\\frac{\\pi}{2} - 200\\pi t)\n",
    "\\end{align*}\n",
    "$$\n",
    "Portanto,\n",
    "\n",
    "$$\n",
    "\\begin{align*} \n",
    "600\\pi t & = \\frac{\\pi}{2} - 200\\pi t \\\\\n",
    "800\\pi t & = \\frac{\\pi}{2} \\\\\n",
    "       t & = \\frac{1}{1600}\n",
    "\\end{align*}\n",
    "$$\n",
    "O valor máximo portanto é \n",
    "\n",
    "$$\n",
    " m \\left( \\frac{1}{1600}\\right) = 3.6955\n",
    "$$\n",
    "\n",
    "Normalizando o sinal mensagem temos:\n",
    "\n",
    "$$\n",
    "   \\begin{align*}\n",
    "   m_n(t) & =  m(t) \\\\\n",
    "          & = 0.8118\\cos(200\\pi t) + 0.2706\\sin(200\\pi t)\n",
    "   \\end{align*}\n",
    "$$"
   ]
  },
  {
   "cell_type": "markdown",
   "metadata": {},
   "source": [
    "## Demodulação\n",
    "\n",
    "Implementação de um detector de envelope\n",
    " - Circuito retificador\n",
    " - Filtro passa-baixa \n",
    "    > A saída do demodulador é dada por $$d(t) = g_1 + g_2 m(t) $$\n",
    "\n",
    " - Sinal de saída do demodulador possui uma componente DC que precisa ser removida.\n",
    "\n",
    "![demod](Figs\\AM\\circuito_rc.png \"Circuito Demodulador AM\")"
   ]
  },
  {
   "cell_type": "markdown",
   "metadata": {},
   "source": [
    "## Impacto da constante RC\n",
    "\n",
    "Baixa constante RC| Alta constante RC |\n",
    "---|---|\n",
    "Saída do filtro varia abruptamente | Capacitor demora para descarregar | \n",
    "Presença de componentes de alta-frequência  | perda de informação |\n",
    "\n",
    "\n",
    "\n",
    "\n",
    "\n",
    "![envelope](Figs\\AM\\envelope.png \"Circuito Demodulador AM\")"
   ]
  },
  {
   "cell_type": "markdown",
   "metadata": {},
   "source": [
    "<h1 style=\"text-align: center;\">Modulação SSB</h1>"
   ]
  },
  {
   "cell_type": "markdown",
   "metadata": {},
   "source": [
    "## Definição\n",
    "\n",
    "- Características das modulações DSB-SC e DSB convencional\n",
    "    - Espectro simétrico\n",
    "    - Uso do canal com ocupação de $2W$\n",
    "    - Uso ineficiente\n",
    "\n",
    "- Modulação SSB\n",
    "    - Transmissão com metade da Banda\n",
    "    - Explora a simetria do espectro\n",
    "\n",
    "\n",
    "\n",
    "\n",
    "![ssb](Figs\\AM\\ssb.png \"Modulação SSB\")"
   ]
  },
  {
   "cell_type": "markdown",
   "metadata": {},
   "source": [
    "## Formulação da Ideia\n",
    "\n",
    "Considere o filtro de transmissão \n",
    "\n",
    "$$\n",
    "H(f) = \\begin{cases}\n",
    "1, & |f| > f_c, \\\\\n",
    "0, & \\textrm{caso contrário}\n",
    "\\end{cases}\n",
    "$$\n",
    "\n",
    "$$\n",
    "H(f) = U(f - f_c) + U(-f - f_c)\n",
    "$$\n",
    "\n",
    "Portanto, o espectro SSB é dado por \n",
    "\n",
    "$$\n",
    "\\begin{align*}\n",
    " \\mathcal{F}[u(t)] & = \\mathcal{F}[u_{DSB} \\circ h(t)]  \\\\\n",
    "                   & = \\mathcal{F}[(2Am(t)\\cos(2\\pi f_ct)) \\circ h(t)] \\\\\n",
    "                   & = AM(f - f_c)U(f -f_c) + AM(f + f_c)U(-f -f_c) \\\\\n",
    "                   & = AM(f)U(f)_{f = f-f_c} + AM(f)U(-f)_{f = f+f_c}\n",
    "\\end{align*}\n",
    "$$\n",
    "\n",
    "Convertendo para o tempo:\n",
    "\n",
    "$$\n",
    "\\begin{align*} \n",
    "u(t) &= A m(t) \\circ  \\mathcal{F}^{-1}[U(f)] \\exp(\\jmath 2 \\pi f_c t) + A m(t) \\circ  \\mathcal{F}^{-1}[U(-f)] \\exp(-\\jmath 2 \\pi f_c t) \\\\\n",
    "     &= A m(t) \\circ \\frac{1}{2}\\left( \\delta (t) + \\frac{\\jmath}{2\\pi t} \\right)\\exp(\\jmath 2 \\pi f_c t) +  A m(t) \\circ \\frac{1}{2}\\left( \\delta (t) - \\frac{\\jmath}{2\\pi t} \\right)\\exp(-\\jmath 2 \\pi f_c t) \\\\\n",
    "     &= \\frac{A}{2}[m(t) + \\jmath \\hat{m}(t)]\\exp(\\jmath 2 \\pi f_c t) + \\frac{A}{2}[m(t) - \\jmath \\hat{m}(t)]\\exp(-\\jmath 2 \\pi f_c t) \\\\\n",
    "     &= Am(t)\\cos( 2 \\pi f_c t) - A\\hat{m}(t)\\sin( 2 \\pi f_c t) \n",
    "\\end{align*}\n",
    "$$\n",
    "Portanto, a expressão banda superior é dada por\n",
    "\n",
    "$$\n",
    "u(t) = m(t)\\cos( 2 \\pi f_c t) - \\hat{m}(t)\\sin( 2 \\pi f_c t).\n",
    "$$\n",
    "\n",
    "Para calcular a banda inferior tem-se que \n",
    "\n",
    "$$\n",
    "\\begin{align*}\n",
    "u(t) + u_l(t) &= 2Am(t)\\cos(2\\pi f_ct)  \\\\\n",
    "u_l(t)        &= 2Am(t)\\cos(2\\pi f_ct) - A m(t)\\cos( 2 \\pi f_c t) + A\\hat{m}(t)\\sin( 2 \\pi f_c t) \\\\\n",
    "u_l(t)        &= A m(t)\\cos( 2 \\pi f_c t) + A\\hat{m}(t)\\sin( 2 \\pi f_c t)\n",
    "\\end{align*}\n",
    "$$"
   ]
  },
  {
   "cell_type": "markdown",
   "metadata": {},
   "source": [
    "<h1 style=\"text-align: center;\">Modulação VSB</h1>"
   ]
  },
  {
   "cell_type": "markdown",
   "metadata": {},
   "source": [
    "## Conceito\n",
    "\n",
    "* Uma variação da modulação SSB, mas com a presença de uma banda vestigial\n",
    "\n",
    "![vsb](Figs\\AM\\vsb.png \"Modulação VSB\")"
   ]
  },
  {
   "cell_type": "markdown",
   "metadata": {},
   "source": [
    "## Qual filtro é possível utilizar?\n",
    "\n",
    "Considere o sinal transmitido\n",
    "$$\n",
    "\\begin{align*}\n",
    " \\mathcal{F}[u(t)] & = \\mathcal{F}[u_{DSB} \\circ h(t)]  \\\\\n",
    "                   & = \\mathcal{F}[(2Am(t)\\cos(2\\pi f_ct)) \\circ h(t)] \\\\\n",
    "                   & = \\frac{A}{2}(M(f-f_c) + M(f+f_c))H(f)\n",
    "\\end{align*}\n",
    "$$\n",
    "Na entrada do receptor tem-se que :\n",
    "$$\n",
    "\\begin{align*}\n",
    "v(t)     &= u(t) \\cos(2\\pi f_ct)  \\\\\n",
    "V(f)     & =\\frac{A}{2} [U(f - fc) + U(f + fc)] \\\\\n",
    "         &  \\frac{A}{4}\\left[(M(f-2f_c) + M(f))H(f-f_c) +  (M(f) + M(f+2f_c))H(f+f_c) \\right]\n",
    "\\end{align*}\n",
    "$$\n",
    "Após o uso de filtro passa-baixa\n",
    "$$\n",
    "\\begin{align*}\n",
    "V(f)     & =  \\frac{A}{4}M(f)\\left[(H(f-f_c) + H(f+f_c) \\right]\n",
    "\\end{align*}\n",
    "$$\n",
    "para que não haja distorção no sinal tem-se que :\n",
    "\n",
    "$$\n",
    "H(f-f_c) + H(f+f_c) = \\textrm{constante}\n",
    "$$"
   ]
  },
  {
   "cell_type": "markdown",
   "metadata": {},
   "source": [
    "<h1 style=\"text-align: center;\"> Exemplo de Moduladores</h1>\n"
   ]
  },
  {
   "cell_type": "markdown",
   "metadata": {},
   "source": [
    "## Moduladores por série de potência\n",
    "\n",
    "Esse tipo de modulador é caracterizado pela a utilização de um dispositivo não-linear. Considere a relação de entrada e saída\n",
    "\n",
    "$$\n",
    "v_o(t) = a_1v_i(t) + a_2v_2(t),\n",
    "$$\n",
    "em que,\n",
    "$$\n",
    "v_i(t) = m(t) +A_c \\cos(2\\pi f_c t).\n",
    "$$\n",
    "\n",
    "O sinal na saída do dispositivo é portanto\n",
    "$$\n",
    "\\begin {align*}\n",
    "v_o(t)  &=  a_1m(t) +a_1A_c \\cos(2\\pi f_c t) + a_2(m^2(t) +A^2_c \\cos^2(2\\pi f_c t) + 2m(t)A_c \\cos^2(2\\pi f_c t)) \\\\\n",
    "        &=  A_c a_1\\left[ 1 + \\frac{m(t) a_2}{a_1}\\right]\\cos(2\\pi f_c t) + a_2m^2(t) + a_2A^2_c \\cos^2(2\\pi f_c t) \\\\\n",
    "\\end{align*}\n",
    "$$\n",
    "Após o uso de um filtro de banda-passante o sinal transmitido é \n",
    "$$\n",
    "v_o(t) = A_c a_1\\left[ 1 + \\frac{m(t) a_2}{a_1}\\right]\\cos(2\\pi f_c t)\n",
    "$$\n",
    "\n",
    "![potencia](Figs\\AM\\modulador_potencia.png \"Modulador por Série de Potência\")"
   ]
  },
  {
   "cell_type": "markdown",
   "metadata": {},
   "source": []
  },
  {
   "cell_type": "markdown",
   "metadata": {},
   "source": []
  }
 ],
 "metadata": {
  "kernelspec": {
   "display_name": "Python 3.9.12 ('linkSimul')",
   "language": "python",
   "name": "python3"
  },
  "language_info": {
   "codemirror_mode": {
    "name": "ipython",
    "version": 3
   },
   "file_extension": ".py",
   "mimetype": "text/x-python",
   "name": "python",
   "nbconvert_exporter": "python",
   "pygments_lexer": "ipython3",
   "version": "3.9.12"
  },
  "orig_nbformat": 4,
  "vscode": {
   "interpreter": {
    "hash": "f11e44294ef36fddc0818d2c44720dbd9001fe6986863e093359c8cb10ee009c"
   }
  }
 },
 "nbformat": 4,
 "nbformat_minor": 2
}
