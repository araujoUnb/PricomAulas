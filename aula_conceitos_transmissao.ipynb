{
 "cells": [
  {
   "cell_type": "code",
   "execution_count": 1,
   "metadata": {},
   "outputs": [],
   "source": [
    "import numpy as np\n",
    "import matplotlib.pyplot as plt\n",
    "import ipywidgets as widgets\n"
   ]
  },
  {
   "cell_type": "code",
   "execution_count": 2,
   "metadata": {},
   "outputs": [],
   "source": [
    "def rect_pulse(A,fs,T,T_max=2): \n",
    "    r\"\"\" Generate isolated rectangular pulse with the following parameters\n",
    "    Parameters: A : amplitude of the rectangular pulse \n",
    "    fs : sampling frequency in Hz \n",
    "     : duration of the pulse in seconds \n",
    "     Returns: \n",
    "     (t,g) : time base (t) and the signal g(t) as tuple \n",
    "     Example: \n",
    "     A = 1;\n",
    "      fs=500;\n",
    "      T = 0.2; \n",
    "      (t,g) = rect_pulse(A,fs,T) \"\"\" \n",
    "    t = np.arange(0,T_max,1/fs) # time base \n",
    "    rect = (t >0) * (t<T) + 0.5*(t==T) + 0.5*(t==0) \n",
    "    g = A*rect \n",
    "    return (t,g)\n",
    "\n",
    "def impulse(A,fs,t_d,T_max=1):\n",
    "\n",
    "  t,g = rect_pulse(A,fs,T=0.001,T_max=T_max)\n",
    "\n",
    "  nSamples = int(fs*t_d)\n",
    "  g = np.roll(g,nSamples)\n",
    "\n",
    "  return (t,g)\n",
    "\n",
    "\n",
    "def canal_linear(input,fs,aVec,tdVec):\n",
    "\n",
    "  nSamplesInput = len(input)\n",
    "  nEchos = len(aVec)\n",
    "\n",
    "  y = np.zeros(nSamplesInput)\n",
    "\n",
    "  for ii in range(nEchos):\n",
    "\n",
    "    y = y + np.convolve(input,impulse(aVec[ii],fs,tdVec[ii])[1])[0:nSamplesInput]\n",
    "\n",
    "\n",
    "  return y\n",
    "\n",
    "def sinc(B,fs,t_d,T_max):\n",
    "\n",
    "  t = np.arange(0,T_max,1/fs)\n",
    "  return t, np.sinc(B*(t-t_d))\n",
    "\n",
    "\n",
    "def canal_nao_linear(input,a,idx=2):\n",
    "\n",
    "  return input + a*input**idx\n",
    "\n"
   ]
  },
  {
   "cell_type": "markdown",
   "metadata": {},
   "source": [
    "<img src=\"https://github.com/araujoUnb/PricomAulas/blob/main/Figs/fga.png?raw=true\" alt=\"isolated\"/>"
   ]
  },
  {
   "cell_type": "markdown",
   "metadata": {},
   "source": [
    "\n",
    "<h1 style=\"text-align: center;\">Fundamentos de Transmissão</h1>\n",
    "\n",
    "<h3 style=\"text-align: center;\">Disciplina: Princípios de Comunicação</h3>\n",
    "\n",
    "\n",
    "<p style=\"text-align: center;\">Prof. Daniel C. Araújo</p>"
   ]
  },
  {
   "cell_type": "markdown",
   "metadata": {},
   "source": [
    "## Conteúdo\n",
    "\n",
    "1. Introdução \n",
    "2. Distorções em Transmissão\n",
    "3. Tipos de distorção\n",
    "4. Energia e Potência"
   ]
  },
  {
   "cell_type": "markdown",
   "metadata": {},
   "source": [
    "<h1 style=\"text-align: center;\">Introdução</h1>\n"
   ]
  },
  {
   "cell_type": "markdown",
   "metadata": {},
   "source": [
    "## Sistemas Linear e Invariantes no Tempo\n",
    "\n",
    " - Sistemas LTI podem ser bem caracterizados no tempo\n",
    "\n",
    "> Caracterização no tempo :         $$y(t) = \\int _{-\\infty}^{\\infty} h (t - \\tau) x(\\tau)d\\tau$$\n",
    "\n",
    "em que, $h(t)$ é considerado o sistema, $x(t)$ é a entrada no mesmo e a saída do sistema é dado por $y(t)$ \n",
    "\n",
    " - Sistemas LTI podem ser bem caracterizados no tempo\n",
    "\n",
    "> Caracterização na frequência :   $$ Y(f) = H(f)X(f) $$\n",
    "\n",
    "em que, \n",
    "$$\n",
    "\\begin{align*}\n",
    "   Y(f) = \\mathcal{F}[y(t)] \\\\\n",
    "   X(f) = \\mathcal{F}[x(t)] \\\\\n",
    "   H(f) = \\mathcal{F}[h(t)] \\\\\n",
    "\\end{align*}\n",
    "$$"
   ]
  },
  {
   "cell_type": "markdown",
   "metadata": {},
   "source": [
    "## Transmissão\n",
    "\n",
    " - Considerando o canal de transmissão como um sistema LIT é possível expressar o sinal recebido como:\n",
    "\n",
    "$$ \\begin{align*} \n",
    "Y(f)   &= H(f)X(f) \\\\\n",
    "|Y(f)|e^{\\jmath \\theta _y(f)} &= |H(f)|e^{\\jmath \\theta _h(f)} |X(f)|e^{\\jmath \\theta _x(f)}\n",
    "\\end{align*}\n",
    "$$\n",
    "Portanto,\n",
    "$$ \\begin{align*} \n",
    "|Y(f)| &= |H(f)| |X(f)| \\\\\n",
    "\\theta _y(f) &= \\theta _h(f) + \\theta _x(f)\n",
    "\\end{align*}\n",
    "$$\n",
    "\n",
    "> O sinal recebido é uma versão de $x(t)$ com  a amplitude e fase do sinal alteradas."
   ]
  },
  {
   "cell_type": "markdown",
   "metadata": {},
   "source": [
    "<h1 style=\"text-align: center;\">Distorções em Transmissão</h1>"
   ]
  },
  {
   "cell_type": "markdown",
   "metadata": {},
   "source": [
    "## Transmissão sem distorção \n",
    "\n",
    " - Quais as condições para que não haja distorção em uma transmissão?\n",
    " \n",
    " > O sinal recebido deve ser uma réplica do sinal transmitido. Ou seja, a forma de onda do sinal deve ser igual.\n",
    "\n",
    "\n",
    " - A condição de não-distorção é:\n",
    "\n",
    " $$\n",
    "   y(t) = k x(t - t_d)\n",
    " $$\n",
    "\n",
    "  - Representação na frequência: \n",
    "\n",
    "  $$\n",
    "   Y(f) = k X(f)e^{-\\jmath 2\\pi f t_d}.\n",
    "  $$\n",
    "\n",
    " Portanto,  \n",
    "\n",
    " $$\n",
    " H(f) = k e^{-\\jmath 2\\pi f t_d}\n",
    " $$\n",
    " \n",
    " > * Frequência angular : $\\omega = 2\\pi f$\n",
    " > * Atraso de grupo : $t_d = - \\frac{1}{2\\pi}\\frac{d \\theta(f)}{df}$ \n",
    " > * Atraso de portadora : $t_p = -\\frac{\\theta(f_0)}{2\\pi f_o}$ \n"
   ]
  },
  {
   "cell_type": "code",
   "execution_count": 3,
   "metadata": {},
   "outputs": [
    {
     "data": {
      "image/png": "[encoded data removed]",
      "text/plain": [
       "<Figure size 432x288 with 1 Axes>"
      ]
     },
     "metadata": {
      "needs_background": "light"
     },
     "output_type": "display_data"
    }
   ],
   "source": [
    "fs = 1e3         # frequência de amostragem\n",
    "nSamples = 2**8  # número de amostras para plotar o sinal\n",
    "td = 4*(1/fs)    # atraso de grupo em função do tempo de amostragem Ts = 1/fs\n",
    "\n",
    "f = np.linspace(-fs/2,fs/2,nSamples)  # frequência analógica\n",
    "\n",
    "Hf = np.ones(nSamples)\n",
    "theta = -2*np.pi*f*td                 # rotação de fase na frequência para um atraso no tempo de td\n",
    "\n",
    "plt.plot(f,Hf,label='Amplitude')\n",
    "plt.plot(f,theta % (2*np.pi) -np.pi,'g--',label='Fase')\n",
    "plt.xlabel('Frequência [Hz]')\n",
    "plt.ylabel('Amplitude')\n",
    "plt.xlim([-fs/2,fs/2])\n",
    "plt.legend()\n",
    "plt.grid()\n",
    "plt.show()"
   ]
  },
  {
   "cell_type": "markdown",
   "metadata": {},
   "source": [
    "## Comentários sobre sistemas passa-tudo\n",
    "\n",
    " - Sistemas passa-tudo são sempre canais sem distoção? \n",
    "   > Não. Sistemas passa-tudo não implica em fase linear. \n",
    "   \n",
    "   > É possível termos sistemas passa-tudo com fase não-linear."
   ]
  },
  {
   "cell_type": "markdown",
   "metadata": {},
   "source": [
    "## Exemplo\n",
    "\n",
    "Considere um filtro RC passa-baixa com $R=10^3$ e $C = 10^{-9}$, cuja a entrada e a saída são $g(t)$ e $y(t)$, respectivamente. Determine a função de transferência $H(f)$, a fase e o atraso de grupo. Considere que para um transmissão sem distorção o requisito é que a amplitude na saída esteja dentro de 2\\% e que o atraso de grupo esteja dentro 5\\% de variação.\n",
    "\n",
    "\n",
    "### Solução\n",
    "\n",
    "$$\n",
    "\\begin{align*}\n",
    "H(f) &= \\frac{1/(\\jmath 2\\pi fC)}{R + 1/(\\jmath 2\\pi fC)} \\\\\n",
    "    & = \\frac{1}{1 + \\jmath 2\\pi f RC } \\\\\n",
    "    & = \\frac{a}{a+ \\jmath 2\\pi f }\n",
    "\\end{align*}\n",
    "$$\n",
    "\n",
    "em que $a = \\frac{1}{RC} = 10 ^6$ \n",
    "\n",
    "Então:\n",
    "\n",
    "$$\n",
    "\\begin{align*}\n",
    "|H(f)| & = \\frac{a}{\\sqrt{a ^2+  (2\\pi f)^2 }} \\approx 1, \\,\\ |2\\pi f| << a \\\\\n",
    "\\theta _h (f) &= - \\arctan {\\frac{2\\pi f}{a}} \\approx \\frac{2\\pi f}{a}, \\,\\ |2\\pi f| << a \n",
    "\\end{align*}\n",
    "$$\n",
    "\n",
    "Para acharmos o atraso de grupo basta derivar o $\\theta _h (f)$: \n",
    "$$\n",
    "\\begin{align*}\n",
    "t_d(f) &= -\\frac{1}{2\\pi}\\frac{\\partial }{\\partial f}\\theta _h (f)  \\\\\n",
    "   & =  \\frac{a}{a^2 +( 2\\pi f)^2 } \\\\ \n",
    "   & \\approx \\frac{1}{a} , \\,\\ |2\\pi f| << a   \\\\\n",
    "   & \\approx 10^{-6}\n",
    "\\end{align*}\n",
    "$$\n",
    "\n",
    "Para calcular a banda efetiva basta considerarmos $|H(B)|> 0.98$ e $t_d(B)> 0.95/a$\n",
    "\n",
    "$$\n",
    "|H(f)|  = \\frac{a}{\\sqrt{a ^2+  (2\\pi f)^2 }} \\geq 0.98\n",
    "$$\n",
    "e\n",
    "$$\n",
    "t_d(f)  = \\frac{a}{a^2 +( 2\\pi f)^2}  \\geq \\frac{0.95}{a}\n",
    "$$\n",
    "\n",
    "A menor frequência que atende as duas equações é $B=32.31$ kHz."
   ]
  },
  {
   "cell_type": "code",
   "execution_count": 5,
   "metadata": {},
   "outputs": [],
   "source": [
    "def filtro_passa_baixa(a,f):\n",
    "    Hf = a/(a + 1j*2*np.pi*f)\n",
    "\n",
    "    return Hf\n",
    "\n",
    "\n",
    "a  = (10**6)\n",
    "fftSize  = 2**10\n",
    "f = np.linspace(0,3*a,fftSize)/(2*np.pi)\n",
    "\n",
    "Hf = filtro_passa_baixa(a,f)\n"
   ]
  },
  {
   "cell_type": "code",
   "execution_count": 6,
   "metadata": {},
   "outputs": [
    {
     "data": {
      "image/png": "[encoded data removed]",
      "text/plain": [
       "<Figure size 432x288 with 1 Axes>"
      ]
     },
     "metadata": {
      "needs_background": "light"
     },
     "output_type": "display_data"
    }
   ],
   "source": [
    "plt.semilogx(f,np.abs(Hf),'r-',label=\"Resposta do filtro\")\n",
    "#plt.semilogx(f,1/np.sqrt(2)*np.ones(len(Hf)),'b--', label=\"Nível de meia potência\")  \n",
    "plt.semilogx(a/(2*np.pi)*np.ones(len(Hf)),np.linspace(0,1/np.sqrt(2),len(Hf)),\"--\",label=\"Nível de meia potência\")\n",
    "plt.semilogx(32.31e3*np.ones(len(Hf)),np.linspace(0,1,len(Hf)),\"g--\",label=\"Largura de banda sem distorção\")\n",
    "plt.xlabel(\"Frequência (Hz)\")\n",
    "plt.grid()\n",
    "plt.legend()\n",
    "plt.show()"
   ]
  },
  {
   "cell_type": "code",
   "execution_count": 7,
   "metadata": {},
   "outputs": [
    {
     "data": {
      "image/png": "[encoded data removed]",
      "text/plain": [
       "<Figure size 432x288 with 1 Axes>"
      ]
     },
     "metadata": {
      "needs_background": "light"
     },
     "output_type": "display_data"
    }
   ],
   "source": [
    "plt.semilogx(f,np.angle(Hf),'r-',label=\"fase do filtro\")\n",
    "plt.semilogx(32.31e3*np.ones(len(Hf)),np.linspace(-np.pi/2,0,len(Hf)),\"g--\",label=\"Largura de banda sem distorção\")\n",
    "plt.semilogx(f,-2*np.pi*f/a,'k--',label=\"Aproximação\")\n",
    "plt.xlabel(\"Frequência (Hz)\")\n",
    "plt.xlim([10**2,10**5])\n",
    "plt.ylim([-np.pi/2,0])\n",
    "plt.grid()\n",
    "plt.legend()\n",
    "plt.show()"
   ]
  },
  {
   "cell_type": "markdown",
   "metadata": {},
   "source": [
    "<h1 style=\"text-align: center;\">Tipos de distorção</h1>"
   ]
  },
  {
   "cell_type": "markdown",
   "metadata": {},
   "source": [
    "## Distorção linear\n",
    "\n",
    "  - Causado por um espalhamento temporal do sinal como mostrado nas figuras\n",
    "  - No exemplo a seguir, a relação de entrada e saída  é expressa por\n",
    "  $$\n",
    "   y(t) = x(t-t_d) + \\frac{k}{2}\\left[x(t-t_d - T/2) + x(t-t_d - T)\\right]\n",
    "  $$\n",
    "  - Pela expressão, é possível perceber que o é espalhado ao longo do tempo, efeito corroborado pelos gráficos"
   ]
  },
  {
   "cell_type": "markdown",
   "metadata": {},
   "source": []
  },
  {
   "cell_type": "code",
   "execution_count": 8,
   "metadata": {},
   "outputs": [
    {
     "data": {
      "application/vnd.jupyter.widget-view+json": {
       "model_id": "7ed55eda18124c8587d719e37f0f112e",
       "version_major": 2,
       "version_minor": 0
      },
      "text/plain": [
       "Output()"
      ]
     },
     "metadata": {},
     "output_type": "display_data"
    },
    {
     "data": {
      "application/vnd.jupyter.widget-view+json": {
       "model_id": "e8d2775013cc44f5bdfe1bca8c8807d1",
       "version_major": 2,
       "version_minor": 0
      },
      "text/plain": [
       "HBox(children=(FloatSlider(value=0.0, description='defina o atraso de propagação', max=1.0, step=0.01), Dropdo…"
      ]
     },
     "metadata": {},
     "output_type": "display_data"
    }
   ],
   "source": [
    "A = 1\n",
    "fs = 500\n",
    "T = 0.4\n",
    "def plot_spreading(alpha,nEchos):\n",
    "    t, x = rect_pulse(A,fs,T)\n",
    "\n",
    "    plt.plot(t,x,'b',label='Sinal transmitido')\n",
    "    plt.xlabel('Tempo(s)')\n",
    "    plt.grid()\n",
    "    plt.xlim([0,1])\n",
    "    plt.legend()\n",
    "    plt.show()\n",
    "\n",
    "\n",
    "    k = 1\n",
    "    aVec = k*np.ones(nEchos)\n",
    "    aVec[1::] =  aVec[1::]/2 \n",
    "\n",
    "    td = alpha*T\n",
    "    tdVec = np.linspace(0,2*T,nEchos) + td\n",
    "\n",
    "    y = canal_linear(x,fs,aVec,tdVec)\n",
    "\n",
    "    plt.plot(t,x,'b',label='Sinal de entrada')\n",
    "    plt.plot(t,y,'--g',label=\"Saída do canal\")\n",
    "    plt.xlabel('Tempo(s)')\n",
    "    plt.grid()\n",
    "    plt.xlim([0,t[-1]])\n",
    "    plt.legend()\n",
    "    plt.show()\n",
    "\n",
    "a = widgets.FloatSlider(min=0,max=1,step=0.01, description=\"defina o atraso de propagação\")\n",
    "e = widgets.Dropdown(\n",
    "    options=[1,2,3,4,5],\n",
    "    value=1,\n",
    "    description='Número de echos',\n",
    "    disabled=False,\n",
    "\n",
    ")\n",
    "\n",
    "ui = widgets.HBox([a,e])\n",
    "\n",
    "out = widgets.interactive_output(plot_spreading, {'alpha': a,'nEchos':e})\n",
    "\n",
    "display(out, ui)\n"
   ]
  },
  {
   "cell_type": "markdown",
   "metadata": {},
   "source": [
    "## Distorções não-lineares\n",
    "\n",
    "- Em certos casos, efeitos não-lineares estão integrados em canais de comunicação.\n",
    "- A relação de entrada-saída é escrita como:\n",
    "$$\n",
    "y(t) = f(x(t)),\n",
    "$$ \n",
    "em que $f(.)$ consiste em um função de mapeamento não-linear\n",
    "\n",
    "- Neste casos, podemos reescrever o problem em termos da série de Maclaurin\n",
    "$$\n",
    "y(t) = a_0 + a_1x(t)+ a_2x^2(t) + ...\n",
    "$$"
   ]
  },
  {
   "cell_type": "code",
   "execution_count": 9,
   "metadata": {},
   "outputs": [
    {
     "data": {
      "image/png": "[encoded data removed]",
      "text/plain": [
       "<Figure size 432x288 with 1 Axes>"
      ]
     },
     "metadata": {
      "needs_background": "light"
     },
     "output_type": "display_data"
    },
    {
     "data": {
      "image/png": "[encoded data removed]",
      "text/plain": [
       "<Figure size 432x288 with 1 Axes>"
      ]
     },
     "metadata": {
      "needs_background": "light"
     },
     "output_type": "display_data"
    }
   ],
   "source": [
    "B  = 50\n",
    "fs = 4*B\n",
    "t_d = 0.5\n",
    "t,x = sinc(B,fs,t_d,T_max=1)\n",
    "\n",
    "plt.plot(t,x,'b',label='Sinal de entrada')\n",
    "plt.xlabel('Tempo (s)')\n",
    "plt.grid()\n",
    "plt.legend()\n",
    "plt.show()\n",
    "\n",
    "f = np.linspace(-fs/2,fs/2,len(t))\n",
    "\n",
    "Xf = np.fft.fftshift(np.fft.fft(x))\n",
    "plt.plot(f,np.abs(Xf),label='Espectro de frequência')\n",
    "plt.xlabel(\"Frequênca [Hz]\")\n",
    "plt.grid()\n",
    "plt.legend()\n",
    "plt.show()\n",
    "\n",
    "\n",
    "\n"
   ]
  },
  {
   "cell_type": "code",
   "execution_count": 10,
   "metadata": {},
   "outputs": [
    {
     "data": {
      "application/vnd.jupyter.widget-view+json": {
       "model_id": "b9a8a0505f2045a284851fac22341cac",
       "version_major": 2,
       "version_minor": 0
      },
      "text/plain": [
       "Output()"
      ]
     },
     "metadata": {},
     "output_type": "display_data"
    },
    {
     "data": {
      "application/vnd.jupyter.widget-view+json": {
       "model_id": "e923314afe11475ab1b2a11b16d623b7",
       "version_major": 2,
       "version_minor": 0
      },
      "text/plain": [
       "HBox(children=(Dropdown(description='Ordem do modelo', options=(1, 2, 3, 4, 5), value=1),))"
      ]
     },
     "metadata": {},
     "output_type": "display_data"
    }
   ],
   "source": [
    "def plot_canal_nlinear(idx):\n",
    "\n",
    "    y = canal_nao_linear(x,1,idx)\n",
    "\n",
    "    plt.plot(t,x,'b',label='Sinal de entrada')\n",
    "    plt.plot(t,y,'g--',label='Sinal de saída')\n",
    "    plt.xlabel('Tempo (s)')\n",
    "    plt.grid()\n",
    "    plt.legend()\n",
    "    plt.show()\n",
    "\n",
    "\n",
    "    Yf = np.fft.fftshift(np.fft.fft(y))\n",
    "    plt.plot(f,np.abs(Xf),label='Espectro de frequência de x(t)')\n",
    "    plt.plot(f,np.abs(Yf),label='Espectro de frequência de y(t)')\n",
    "    plt.xlabel(\"Frequênca [Hz]\")\n",
    "    plt.grid()\n",
    "    plt.legend()\n",
    "    plt.show()\n",
    "\n",
    "a = widgets.Dropdown(\n",
    "    options=[1,2,3,4,5],\n",
    "    value=1,\n",
    "    description='Ordem do modelo',\n",
    "    disabled=False,\n",
    ")\n",
    "\n",
    "ui = widgets.HBox([a])\n",
    "\n",
    "out = widgets.interactive_output(plot_canal_nlinear, {'idx': a})\n",
    "\n",
    "display(out, ui)"
   ]
  },
  {
   "cell_type": "markdown",
   "metadata": {},
   "source": [
    "## Distorção de multi-percurso\n",
    "\n",
    "<img src=\"https://external-content.duckduckgo.com/iu/?u=https%3A%2F%2Ftse4.mm.bing.net%2Fth%3Fid%3DOIP.oMO2KVnEpG-5miTbjypbTwHaFr%26pid%3DApi&f=1&ipt=45f5133aa218172f5dc3df349956381a2683917090459ddc7bef2f8754a4b0a5&ipo=images\" alt=\"isolated\"/>\n",
    "\n",
    "\n",
    "Modelo de canal :\n",
    "\n",
    "$$\n",
    "h(t) = \\sum _{i=0}^{N-1}k_i \\delta (t - \\tau _i),\n",
    "$$\n",
    "\n",
    "em que $k_i$ é atenuação correspondente ao $i$-ésimo multi percurso e $\\tau _i$ é atraso relativo ao $i$-ésimo multi percurso."
   ]
  },
  {
   "cell_type": "markdown",
   "metadata": {},
   "source": [
    "<h1 style=\"text-align: center;\">Sinais do Tipo Energia</h1>"
   ]
  },
  {
   "cell_type": "markdown",
   "metadata": {},
   "source": [
    "## Definição \n",
    "\n",
    "A energia de um sinal $x(t)$ é dado por \n",
    "\n",
    "$$\n",
    "E_x = \\int _{-\\infty}^{\\infty} |x(t)|^2 dt\n",
    "$$\n",
    "Um sinal é chamado do tipo energia se $E_g$ possui convergência."
   ]
  },
  {
   "cell_type": "markdown",
   "metadata": {},
   "source": [
    "## Energia em função da frequência\n",
    "\n",
    "Como definir o a energia no domínio da frequência?\n",
    "\n",
    "$$\n",
    "\\begin{align*}\n",
    "E_x & = \\int _{-\\infty}^{\\infty} |x(t)|^2 dt \\\\\n",
    "    & = \\int _{-\\infty}^{\\infty} x(t)x^*(t) dt \\\\\n",
    "    & = \\int  _{-\\infty}^{\\infty} x(t) \\left[  \\int  _{-\\infty}^{\\infty}X^*(f) e^{-\\jmath 2 \\pi f t} df \\right] dt \\\\\n",
    "    & = \\int  _{-\\infty}^{\\infty} X^*(f) \\left[  \\int  _{-\\infty}^{\\infty}x(t)  e^{-\\jmath 2 \\pi f t} dt \\right] df \\\\\n",
    "    & = \\int  _{-\\infty}^{\\infty} X^*(f) X(f) df \\\\\n",
    "    & = \\int  _{-\\infty}^{\\infty} |X(f)|^2 df \n",
    "\\end{align*}\n",
    "$$\n",
    "\n",
    "> Teorema de Parseval: $$ E_x = \\int _{-\\infty}^{\\infty} |x(t)|^2 dt = \\int  _{-\\infty}^{\\infty} |X(f)|^2 df $$"
   ]
  },
  {
   "cell_type": "markdown",
   "metadata": {},
   "source": [
    "## Exemplo\n",
    "\n",
    "Considere o o sinal $g(t) = e^{-at} u(t)$, em que $u(t)$ é uma função degrau. Calcule a energia do sinal $x(t)$ pela definição no tempo e na frequência\n",
    "\n",
    "> Representação no tempo\n",
    "$$\n",
    "\\begin{align*}\n",
    "E_g & = \\int _{0}^{\\infty} e^{-2at} dt \\\\\n",
    "    & = - \\frac{1}{2a} e^{-2at} \\Biggr|_{0}^{\\infty} \\\\\n",
    "    & =  - \\frac{1}{2a} \\left[ \\lim _{t \\rightarrow \\infty}e^{-2at} - e^{-2a0}\\right]  \\\\\n",
    "    & =  - \\frac{1}{2a} \\left[ 0 - 1\\right]  \\\\\n",
    "    & =  \\frac{1}{2a}\n",
    "\\end{align*}\n",
    "$$\n",
    "\n",
    "> Representação na frequência\n",
    "$$\n",
    "\\begin{align*}\n",
    "G(t) & = \\int _{0}^{\\infty}x(t) e^{-\\jmath 2 \\pi ft} dt \\\\\n",
    "     &=  \\frac{1}{a + \\jmath 2 \\pi f}\n",
    "\\end{align*}\n",
    "$$\n",
    "\n",
    "$$\n",
    "\\begin{align*}\n",
    "|G(t)|^2 &=  \\frac{1}{a^2 + (2 \\pi f)^2}\n",
    "\\end{align*}\n",
    "$$\n",
    "\n",
    "$$\n",
    "\\begin{align*}\n",
    "E_g & = \\int _{-\\infty}^{\\infty} \\frac{1}{a^2 + (2 \\pi f)^2} df \\\\ \n",
    "    & = \\frac{1}{a^2}\\int _{-\\infty}^{\\infty} \\frac{1}{1 + \\left(\\frac{2 \\pi f}{a}\\right)^2} df \\\\\n",
    "    & = \\frac{1}{a^2}\\int _{-\\infty}^{\\infty} \\frac{1}{1 + \\left(u\\right)^2} \\left(\\frac{a}{2\\pi}\\right) du\\\\\n",
    "    & = \\frac{1}{2\\pi a}\\int _{-\\infty}^{\\infty} \\frac{1}{1 + u^2} du\\\\\n",
    "    & = \\frac{1}{2\\pi a} atan \\left(\\frac{2 \\pi f}{a} \\right)\\Biggr|_{-\\infty}^{\\infty} \\\\\n",
    "    & = \\frac{1}{2\\pi a} \\left[\\frac{ \\pi }{2} - \\frac{- \\pi }{2}  \\right] \\\\\n",
    "    & = \\frac{1}{2 a}\n",
    "\\end{align*}\n",
    "$$"
   ]
  },
  {
   "cell_type": "code",
   "execution_count": 10,
   "metadata": {},
   "outputs": [
    {
     "data": {
      "image/png": "[encoded data removed]",
      "text/plain": [
       "<Figure size 432x288 with 1 Axes>"
      ]
     },
     "metadata": {
      "needs_background": "light"
     },
     "output_type": "display_data"
    }
   ],
   "source": [
    "# Visualização do arco tangente\n",
    "\n",
    "k = 1\n",
    "x = np.linspace(-k*np.pi/2,k*np.pi/2,1000)\n",
    "y = np.arctan(x)\n",
    "\n",
    "plt.plot(x,y)\n",
    "plt.xlabel('x')\n",
    "plt.grid()\n",
    "plt.show()"
   ]
  },
  {
   "cell_type": "markdown",
   "metadata": {},
   "source": [
    "## Banda Efetiva em sinais limitados na frequência\n",
    "\n",
    "\n",
    "<img src = \"Figs\\Sinais\\signal_bandwidth.png\" alt=\"Largura de banda\">\n",
    "\n",
    "\n",
    " -  Banda effetiva: Corresponde a porção positiva da frequência ($f>0$) na qual o sinal é diferente de zero."
   ]
  },
  {
   "cell_type": "markdown",
   "metadata": {},
   "source": [
    "## Banda Efetiva em sinais limitados no tempo\n",
    "\n",
    " - Sinais limitados no tempo geram sinais não-limitados na frequência (Veja exemplo a seguir)\n",
    " - A banda é definida segundo o percentual de energia considerado como limiar\n",
    "    - Exemplo: Considerando 90 \\% da energia total é possível obter uma banda correspondente. Para o exemplo da figura isso seria em torno de $B = \\frac{1}{\\pi}$ Hz"
   ]
  },
  {
   "cell_type": "code",
   "execution_count": 11,
   "metadata": {},
   "outputs": [
    {
     "data": {
      "image/png": "[encoded data removed]",
      "text/plain": [
       "<Figure size 432x288 with 1 Axes>"
      ]
     },
     "metadata": {
      "needs_background": "light"
     },
     "output_type": "display_data"
    },
    {
     "data": {
      "image/png": "[encoded data removed]",
      "text/plain": [
       "<Figure size 432x288 with 1 Axes>"
      ]
     },
     "metadata": {
      "needs_background": "light"
     },
     "output_type": "display_data"
    }
   ],
   "source": [
    "def rect_pulse(T,fs,Ts):\n",
    "\n",
    "    nSamples = int(Ts*fs)\n",
    "    t = np.linspace(-Ts/2,Ts/2,nSamples)\n",
    "\n",
    "    A = [1 if abs(t[ii])<=T else 0 for ii in range(len(t))]\n",
    "\n",
    "    return t, A\n",
    "\n",
    "def time_plot(T,fs,Ts):\n",
    "\n",
    "    res = rect_pulse(T,fs,Ts)\n",
    "    plt.plot(*res)\n",
    "    plt.xlabel(\"tempo\") \n",
    "    plt.title(\"Representação no Tempo (Sinal Limitado no tempo )\")\n",
    "    plt.grid()\n",
    "    plt.show()\n",
    "\n",
    "def freq_plot(T,fs,Ts):\n",
    "    res = rect_pulse(T,fs,Ts)\n",
    "    Mf = np.fft.fftshift(np.fft.fft(res[1],norm=\"ortho\"))\n",
    "    nSamples = len(res[1])\n",
    "\n",
    "    freq  = np.linspace(-fs/2,fs/2,nSamples)\n",
    "\n",
    "    plt.plot(freq,abs(Mf)/np.max(abs(Mf)))\n",
    "    plt.title(\"Representação na frequência (Não limitado na frequência)\")\n",
    "    #plt.xlim([-1,1])\n",
    "    plt.grid()\n",
    "    plt.show()\n",
    "\n",
    "T =10  # metade da largura do pulso\n",
    "fs = 5 # frequência de amostragem\n",
    "Ts =40 # tempo de ssimulação\n",
    "\n",
    "\n",
    "time_plot(T,fs,Ts)\n",
    "freq_plot(T,fs,Ts)"
   ]
  },
  {
   "cell_type": "markdown",
   "metadata": {},
   "source": [
    "## Sinais do tipo Potência\n",
    "\n",
    "\n",
    "A energia de um sinal $x(t)$ é um algun problemas não converge:\n",
    "\n",
    "$$\n",
    "E_x = \\int _{-\\infty}^{\\infty} |x(t)|^2 dt \\rightarrow \\infty\n",
    "$$\n",
    "Neste caso, é utilizado o conceito de potência\n",
    "\n",
    "$$\n",
    "P_x = \\lim _{T \\rightarrow \\infty} \\frac{1}{T}\\int _{-T/2}^{T/2} |x(t)|^2 dt,\n",
    "$$\n",
    "\n",
    "o qual consiste em um média da energia ao longo do tempo.\n",
    "\n",
    "\n",
    "Os resultados anteriores podem ser reescrito em função da frequência portanto é possível:\n",
    "\n",
    "* usar o teorema de Parseval para a potência\n",
    "* usar a banda efetiva em termos da potência"
   ]
  },
  {
   "cell_type": "markdown",
   "metadata": {},
   "source": []
  },
  {
   "cell_type": "code",
   "execution_count": null,
   "metadata": {},
   "outputs": [],
   "source": []
  }
 ],
 "metadata": {
  "kernelspec": {
   "display_name": "Python 3 (ipykernel)",
   "language": "python",
   "name": "python3"
  },
  "language_info": {
   "codemirror_mode": {
    "name": "ipython",
    "version": 3
   },
   "file_extension": ".py",
   "mimetype": "text/x-python",
   "name": "python",
   "nbconvert_exporter": "python",
   "pygments_lexer": "ipython3",
   "version": "3.9.12"
  },
  "vscode": {
   "interpreter": {
    "hash": "9630fc77398032981978f73df441ebb4d15f3f3030f3913be2df7d5804cb23bb"
   }
  }
 },
 "nbformat": 4,
 "nbformat_minor": 2
}
