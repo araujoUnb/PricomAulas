{
 "cells": [
  {
   "cell_type": "code",
   "execution_count": 1,
   "metadata": {},
   "outputs": [],
   "source": [
    "import numpy as np\n",
    "import matplotlib.pyplot as plt"
   ]
  },
  {
   "cell_type": "markdown",
   "metadata": {},
   "source": [
    "<img src=\"Figs/fga.png\" alt=\"isolated\"/>"
   ]
  },
  {
   "cell_type": "markdown",
   "metadata": {},
   "source": [
    "\n",
    "<h1 style=\"text-align: center;\">Fundamentos de Transmissão</h1>\n",
    "\n",
    "<h3 style=\"text-align: center;\">Disciplina: Princípios de Comunicação</h3>\n",
    "\n",
    "\n",
    "<p style=\"text-align: center;\">Prof. Daniel C. Araújo</p>"
   ]
  },
  {
   "cell_type": "markdown",
   "metadata": {},
   "source": [
    "## Conteúdo\n",
    "\n",
    "1. Introdução \n",
    "2. Distorções em Transmissão\n",
    "3. Energia e Potência"
   ]
  },
  {
   "cell_type": "markdown",
   "metadata": {},
   "source": [
    "<h1 style=\"text-align: center;\">Introdução</h1>\n"
   ]
  },
  {
   "cell_type": "markdown",
   "metadata": {},
   "source": [
    "## Sistemas Linear e Invariantes no Tempo\n",
    "\n",
    " - Sistemas LTI podem ser bem caracterizados no tempo\n",
    "\n",
    "> Caracterização no tempo :         $$y(t) = \\int _{-\\infty}^{\\infty} h (t - \\tau) x(\\tau)d\\tau$$\n",
    "\n",
    "em que, $h(t)$ é considerado o sistema, $x(t)$ é a entrada no mesmo e a saída do sistema é dado por $y(t)$ \n",
    "\n",
    " - Sistemas LTI podem ser bem caracterizados no tempo\n",
    "\n",
    "> Caracterização na frequência :   $$ Y(f) = H(f)X(f) $$\n",
    "\n",
    "em que, \n",
    "$$\n",
    "\\begin{align*}\n",
    "   Y(f) = \\mathcal{F}[y(t)] \\\\\n",
    "   X(f) = \\mathcal{F}[x(t)] \\\\\n",
    "   H(f) = \\mathcal{F}[h(t)] \\\\\n",
    "\\end{align*}\n",
    "$$"
   ]
  },
  {
   "cell_type": "markdown",
   "metadata": {},
   "source": [
    "# Distorções em Transmissão\n"
   ]
  },
  {
   "cell_type": "markdown",
   "metadata": {},
   "source": []
  }
 ],
 "metadata": {
  "kernelspec": {
   "display_name": "Python 3.9.12",
   "language": "python",
   "name": "python3"
  },
  "language_info": {
   "codemirror_mode": {
    "name": "ipython",
    "version": 3
   },
   "file_extension": ".py",
   "mimetype": "text/x-python",
   "name": "python",
   "nbconvert_exporter": "python",
   "pygments_lexer": "ipython3",
   "version": "3.9.12"
  },
  "orig_nbformat": 4,
  "vscode": {
   "interpreter": {
    "hash": "6195a544963557ba85b8cde6d16ee88f471d07df10523a90df3ae9fe78789751"
   }
  }
 },
 "nbformat": 4,
 "nbformat_minor": 2
}
