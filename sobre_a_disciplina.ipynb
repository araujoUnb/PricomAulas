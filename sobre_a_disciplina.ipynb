{
 "cells": [
  {
   "cell_type": "code",
   "execution_count": 1,
   "metadata": {},
   "outputs": [],
   "source": [
    "import pandas as pd"
   ]
  },
  {
   "cell_type": "markdown",
   "metadata": {},
   "source": [
    "<img src=\"https://github.com/araujoUnb/PricomAulas/blob/main/Figs/fga.png?raw=true\" alt=\"isolated\"/>"
   ]
  },
  {
   "cell_type": "markdown",
   "metadata": {},
   "source": [
    "<h1 style=\"text-align: center;\">Sobre a disciplina</h1>\n",
    "\n",
    "<h3 style=\"text-align: center;\">Disciplina: Princípios de Comunicação</h3>\n",
    "\n",
    "\n",
    "<p style=\"text-align: center;\">Prof. Daniel C. Araújo</p>"
   ]
  },
  {
   "cell_type": "markdown",
   "metadata": {},
   "source": [
    "<h1 style=\"text-align: center;\">Ementa</h1>"
   ]
  },
  {
   "cell_type": "markdown",
   "metadata": {},
   "source": [
    "## Conteúdo   \n",
    " 1. Modulações lineares\n",
    " 2. Modulação Angular\n",
    " 3. Ruído em sistemas analógicos \n",
    " 4. Comunicação digital em banda base \n",
    "\n",
    "\n"
   ]
  },
  {
   "cell_type": "markdown",
   "metadata": {},
   "source": [
    "## Programa\n",
    "\n",
    "  0. Conceitos de transmissão\n",
    "   + Sistemas lineares\n",
    "   + Sistemas de banda-básica e banda-passante\n",
    "  1. Modulações lineares\n",
    "   + AM-DSB\n",
    "   + AM-convencional\n",
    "   + SSB\n",
    "   + VSB\n",
    "  2. Modulação Angular\n",
    "   + Modulação PM\n",
    "   + Modulação FM\n",
    "   + Métodos de geração direto e indireto (Armstrong)\n",
    "   + PLL\n",
    "  3. Ruído em sistemas analógicos\n",
    "   +  Definição e propriedades básicas de ruído branco gaussiano\n",
    "   +  Definição de relação sinal-ruído (SNR)\n",
    "   +  Expressões para SNR à entrada e saída de demoduladores básicos \n",
    "  4. Comunicação digital em banda base \n",
    "   +  Amostragem e Quantização\n",
    "   +  PCM linear e não-linear\n",
    "   +  Pulso formatador\n",
    "   +  interferência entre símbolo (ISIS)\n",
    "   +  critérios de Nyquist para redução de ISI; \\item relação entre taxa de transmissão e largura de banda"
   ]
  },
  {
   "cell_type": "markdown",
   "metadata": {},
   "source": [
    "<h1 style=\"text-align: center;\">Avaliação</h1>"
   ]
  },
  {
   "cell_type": "markdown",
   "metadata": {},
   "source": [
    "## Distribuição dos conteúdos nas avaliações"
   ]
  },
  {
   "cell_type": "code",
   "execution_count": 2,
   "metadata": {},
   "outputs": [
    {
     "data": {
      "text/html": [
       "<div>\n",
       "<style scoped>\n",
       "    .dataframe tbody tr th:only-of-type {\n",
       "        vertical-align: middle;\n",
       "    }\n",
       "\n",
       "    .dataframe tbody tr th {\n",
       "        vertical-align: top;\n",
       "    }\n",
       "\n",
       "    .dataframe thead th {\n",
       "        text-align: right;\n",
       "    }\n",
       "</style>\n",
       "<table border=\"1\" class=\"dataframe\">\n",
       "  <thead>\n",
       "    <tr style=\"text-align: right;\">\n",
       "      <th></th>\n",
       "      <th>Tópico 0</th>\n",
       "      <th>Tópico 1</th>\n",
       "      <th>Tópico 2</th>\n",
       "      <th>Tópico 3</th>\n",
       "      <th>Tópico 4</th>\n",
       "    </tr>\n",
       "    <tr>\n",
       "      <th>Avaliação</th>\n",
       "      <th></th>\n",
       "      <th></th>\n",
       "      <th></th>\n",
       "      <th></th>\n",
       "      <th></th>\n",
       "    </tr>\n",
       "  </thead>\n",
       "  <tbody>\n",
       "    <tr>\n",
       "      <th>1</th>\n",
       "      <td>SIM</td>\n",
       "      <td>SIM</td>\n",
       "      <td>NÃO</td>\n",
       "      <td>NÃO</td>\n",
       "      <td>NÃO</td>\n",
       "    </tr>\n",
       "    <tr>\n",
       "      <th>2</th>\n",
       "      <td>NÃO</td>\n",
       "      <td>NÃO</td>\n",
       "      <td>SIM</td>\n",
       "      <td>NÃO</td>\n",
       "      <td>NÃO</td>\n",
       "    </tr>\n",
       "    <tr>\n",
       "      <th>3</th>\n",
       "      <td>NÃO</td>\n",
       "      <td>NÃO</td>\n",
       "      <td>NÃO</td>\n",
       "      <td>SIM</td>\n",
       "      <td>SIM</td>\n",
       "    </tr>\n",
       "  </tbody>\n",
       "</table>\n",
       "</div>"
      ],
      "text/plain": [
       "          Tópico 0 Tópico 1 Tópico 2 Tópico 3 Tópico 4\n",
       "Avaliação                                             \n",
       "1              SIM      SIM      NÃO      NÃO      NÃO\n",
       "2              NÃO      NÃO      SIM      NÃO      NÃO\n",
       "3              NÃO      NÃO      NÃO      SIM      SIM"
      ]
     },
     "execution_count": 2,
     "metadata": {},
     "output_type": "execute_result"
    }
   ],
   "source": [
    "data = {\n",
    "    \"Avaliação\": [1,2,3],\n",
    "    \"Tópico 0\" : [\"SIM\", \"NÃO\", \"NÃO\"],\n",
    "    \"Tópico 1\" : [\"SIM\", \"NÃO\", \"NÃO\"],\n",
    "    \"Tópico 2\" : [\"NÃO\", \"SIM\", \"NÃO\"],\n",
    "    \"Tópico 3\" : [\"NÃO\", \"NÃO\", \"SIM\"],\n",
    "    \"Tópico 4\" : [\"NÃO\", \"NÃO\", \"SIM\"],\n",
    "}\n",
    "\n",
    "df = pd.DataFrame(data)\n",
    "df = df.set_index( \"Avaliação\")\n",
    "df"
   ]
  },
  {
   "cell_type": "markdown",
   "metadata": {},
   "source": [
    "## Notas\n",
    "\n",
    " A avaliação da disciplina será feita a partir da média ponderada das avaliações teóricas $A1$, $A2$, $A3$ e as práticas $L1$, $L2$ e $L3$. A nota final ($NF$) do curso será dada por \n",
    "  $$\n",
    "  \\begin{equation*}\n",
    "      NF = \\frac{0.7*A1+0.7*A2+0.7*A3 + 0.3*L1 + 0.3*L2 + 0.3*L3}{3}.\n",
    "  \\end{equation*}\n",
    "  $$"
   ]
  },
  {
   "cell_type": "markdown",
   "metadata": {},
   "source": [
    "<h1 style=\"text-align: center;\">Referências</h1>"
   ]
  },
  {
   "cell_type": "markdown",
   "metadata": {},
   "source": [
    "[1] S. Haykin e M. Moher, Sistemas modernos de comunicações wireless. Bookman, 2009, isbn:\n",
    "9788577801558.\n",
    "\n",
    "[2] B. Lathi e Z. Ding, Modern Digital and Analog Communication Systems, sér. Oxf Ser Elec\n",
    "Series. Oxford University Press, 2010, isbn: 9780195384932.\n",
    "\n",
    "[3] J. Rochol, Sistemas de Comunicação sem Fio: Conceitos e Aplicações, sér. Série Livros\n",
    "Didáticos Informática UFRGS. Bookman Editora, isbn: 9788582604564.\n",
    "\n",
    "[4] V. SOARES NETO, Sistemas de comunicação serviços, modulação e meios de transmissão.\n",
    "São Paulo Erica, 2015, isbn: 9788536522098.\n",
    "\n",
    "[5] P. H. YOUNG, Técnicas de Comunicação Eletrônica, 5. Editora Pearson, isbn: 9788576050490.\n",
    "\n",
    "[6] J. Proakis e M. Salehi, Fundamentals of Communication Systems. Pearson Education, 2013,\n",
    "isbn: 9780133354942."
   ]
  },
  {
   "cell_type": "markdown",
   "metadata": {},
   "source": []
  }
 ],
 "metadata": {
  "kernelspec": {
   "display_name": "Python 3.9.12 ('unb')",
   "language": "python",
   "name": "python3"
  },
  "language_info": {
   "codemirror_mode": {
    "name": "ipython",
    "version": 3
   },
   "file_extension": ".py",
   "mimetype": "text/x-python",
   "name": "python",
   "nbconvert_exporter": "python",
   "pygments_lexer": "ipython3",
   "version": "3.9.12"
  },
  "vscode": {
   "interpreter": {
    "hash": "9630fc77398032981978f73df441ebb4d15f3f3030f3913be2df7d5804cb23bb"
   }
  }
 },
 "nbformat": 4,
 "nbformat_minor": 2
}
